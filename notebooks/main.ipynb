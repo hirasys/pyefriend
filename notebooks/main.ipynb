{
 "cells": [
  {
   "cell_type": "markdown",
   "id": "ac679e4c",
   "metadata": {},
   "source": [
    "# Database"
   ]
  },
  {
   "cell_type": "code",
   "execution_count": 1,
   "id": "95255e35",
   "metadata": {
    "scrolled": true
   },
   "outputs": [
    {
     "name": "stderr",
     "output_type": "stream",
     "text": [
      "[INFO] 2021-11-08 21:38:08 - re-balancing/__init__.py/<module>, 3: Initialize Re-balancing!\n",
      "[INFO] 2021-11-08 21:38:08 - re-balancing/settings.py/configure_sqlalchemy_session, 33: create engine\n",
      "[INFO] 2021-11-08 21:38:08 - re-balancing/settings.py/configure_sqlalchemy_session, 44: create Session\n"
     ]
    }
   ],
   "source": [
    "from rebalancing.process.db import reset_db, init_data, init_db"
   ]
  },
  {
   "cell_type": "code",
   "execution_count": 2,
   "id": "5448a1b4",
   "metadata": {},
   "outputs": [
    {
     "name": "stderr",
     "output_type": "stream",
     "text": [
      "[INFO] 2021-11-08 21:38:09 - re-balancing/db.py/init_db, 13: create_all: Done\n"
     ]
    }
   ],
   "source": [
    "init_db()"
   ]
  },
  {
   "cell_type": "code",
   "execution_count": 2,
   "id": "35073154",
   "metadata": {},
   "outputs": [
    {
     "name": "stderr",
     "output_type": "stream",
     "text": [
      "[INFO][REBALANCING][C:\\Users\\youngha\\PycharmProjects\\rebalancing\\rebalancing\\process\\db.py - reset_db, 19] 2021-11-08 17:40:54,069: drop_all: Done\n",
      "[INFO][REBALANCING][C:\\Users\\youngha\\PycharmProjects\\rebalancing\\rebalancing\\process\\db.py - init_db, 13] 2021-11-08 17:40:54,136: create_all: Done\n"
     ]
    }
   ],
   "source": [
    "reset_db()"
   ]
  },
  {
   "cell_type": "code",
   "execution_count": 3,
   "id": "320a738a",
   "metadata": {
    "scrolled": true
   },
   "outputs": [
    {
     "name": "stderr",
     "output_type": "stream",
     "text": [
      "[INFO][REBALANCING][C:\\Users\\youngha\\PycharmProjects\\rebalancing\\rebalancing\\process\\db.py - init_data, 55] 2021-11-08 17:40:54,388: Domestic: successfully inserted\n",
      "[INFO][REBALANCING][C:\\Users\\youngha\\PycharmProjects\\rebalancing\\rebalancing\\process\\db.py - init_data, 59] 2021-11-08 17:40:54,425: Overseas: successfully inserted\n"
     ]
    }
   ],
   "source": [
    "init_data()"
   ]
  },
  {
   "cell_type": "code",
   "execution_count": null,
   "id": "94afc042",
   "metadata": {},
   "outputs": [],
   "source": []
  },
  {
   "cell_type": "markdown",
   "id": "8e35f7fa",
   "metadata": {},
   "source": [
    "# Executor: 리밸런싱 실행"
   ]
  },
  {
   "cell_type": "code",
   "execution_count": 1,
   "id": "b756bb68",
   "metadata": {},
   "outputs": [
    {
     "name": "stderr",
     "output_type": "stream",
     "text": [
      "[INFO] 2021-11-09 07:54:26 - re-balancing/__init__.py/<module>, 3: Initialize Re-balancing!\n",
      "[INFO] 2021-11-09 07:54:26 - re-balancing/settings.py/configure_sqlalchemy_session, 40: create engine\n",
      "[INFO] 2021-11-09 07:54:26 - re-balancing/settings.py/configure_sqlalchemy_session, 51: create Session\n"
     ]
    },
    {
     "name": "stdout",
     "output_type": "stream",
     "text": [
      "using jupyter kernel now: a86cb891-70ba-4b04-a8bf-4cf4b3d510da\n"
     ]
    }
   ],
   "source": [
    "from rebalancing.process.executor import Executor"
   ]
  },
  {
   "cell_type": "code",
   "execution_count": null,
   "id": "a6d6f0bd",
   "metadata": {},
   "outputs": [
    {
     "data": {
      "text/markdown": [
       "##### 리밸런싱 생성시 결과 및 로그를 저장할 폴더명을 정합니다."
      ],
      "text/plain": [
       "<IPython.core.display.Markdown object>"
      ]
     },
     "metadata": {},
     "output_type": "display_data"
    }
   ],
   "source": [
    "executor = Executor('domestic', test=False)"
   ]
  },
  {
   "cell_type": "code",
   "execution_count": 3,
   "id": "5e6ca771",
   "metadata": {
    "scrolled": false
   },
   "outputs": [
    {
     "name": "stderr",
     "output_type": "stream",
     "text": [
      "[INFO] 2021-11-09 00:11:57 - rebalancing/executor.py/refresh_price, 145: 종목 리스트를 최신화합니다.\n",
      "[INFO]2021-11-09 00:11:57 - pyefriend/helper.py/run_app, 29: Start APP\n",
      "[INFO] 2021-11-09 00:11:57 - rebalancing/api.py/__init__, 69: 계좌가 존재하는 지 확인합니다.: '7289926901'\n",
      "[WARNING] 2021-11-09 00:11:57 - rebalancing/api.py/__init__, 77: 실제계좌에 성공적으로 연결되었습니다. 타겟 계좌: '7289926901'\n",
      "[INFO] 2021-11-09 00:12:14 - rebalancing/executor.py/refresh_price, 165: 종목 리스트가 최신화되었습니다: 150\n",
      "[INFO] 2021-11-09 00:12:14 - rebalancing/executor.py/refresh_price, 168: 종목 History를 최신화합니다.\n",
      "[INFO] 2021-11-09 00:12:32 - rebalancing/executor.py/refresh_price, 192: 종목 History가 최신화되었습니다.\n"
     ]
    }
   ],
   "source": [
    "executor.refresh_price()"
   ]
  },
  {
   "cell_type": "code",
   "execution_count": 4,
   "id": "4747151e",
   "metadata": {
    "scrolled": false
   },
   "outputs": [
    {
     "name": "stderr",
     "output_type": "stream",
     "text": [
      "[INFO] 2021-11-09 00:12:44 - rebalancing/executor.py/planning_re_balancing, 239: 총 예수금(deposit): 8874892\n",
      "[INFO] 2021-11-09 00:12:44 - rebalancing/executor.py/planning_re_balancing, 241: 총 예수금 + 포트폴리오 포함 & 매수된 종목들의 평가 금액 전체 합(total_amount): 9503892\n",
      "[INFO] 2021-11-09 00:12:44 - rebalancing/executor.py/planning_re_balancing, 248: 전체 금액 중 사용할 금액(available_total_amount): 8553502.8\n",
      "[INFO] 2021-11-09 00:12:44 - rebalancing/executor.py/planning_re_balancing, 252: 투자에 사용할 금액(total_budget): 4276751\n",
      "[INFO] 2021-11-09 00:12:44 - rebalancing/executor.py/planning_re_balancing, 295: 리밸런싱된 후 전체 금액(tobe_total_amount): 4165500\n",
      "[INFO] 2021-11-09 00:12:44 - rebalancing/executor.py/planning_re_balancing, 296: 리밸런싱 후 감소 금액: 111251\n",
      "[INFO] 2021-11-09 00:12:44 - rebalancing/executor.py/planning_re_balancing, 309: Rebalance Result: \n",
      "                   deposit  total_amount  available_total_amount  total_budget  asis_total_amount  tobe_total_amount\n",
      "결과생성일자                                                                                                              \n",
      "20211109_00_11_17  8874892       9503892               8553502.8     4276751.4             629000            4165500\n"
     ]
    },
    {
     "data": {
      "text/markdown": [
       "### Rebalance Result"
      ],
      "text/plain": [
       "<IPython.core.display.Markdown object>"
      ]
     },
     "metadata": {},
     "output_type": "display_data"
    },
    {
     "data": {
      "text/html": [
       "<div>\n",
       "<style scoped>\n",
       "    .dataframe tbody tr th:only-of-type {\n",
       "        vertical-align: middle;\n",
       "    }\n",
       "\n",
       "    .dataframe tbody tr th {\n",
       "        vertical-align: top;\n",
       "    }\n",
       "\n",
       "    .dataframe thead th {\n",
       "        text-align: right;\n",
       "    }\n",
       "</style>\n",
       "<table border=\"1\" class=\"dataframe\">\n",
       "  <thead>\n",
       "    <tr style=\"text-align: right;\">\n",
       "      <th></th>\n",
       "      <th>deposit</th>\n",
       "      <th>total_amount</th>\n",
       "      <th>available_total_amount</th>\n",
       "      <th>total_budget</th>\n",
       "      <th>asis_total_amount</th>\n",
       "      <th>tobe_total_amount</th>\n",
       "    </tr>\n",
       "    <tr>\n",
       "      <th>결과생성일자</th>\n",
       "      <th></th>\n",
       "      <th></th>\n",
       "      <th></th>\n",
       "      <th></th>\n",
       "      <th></th>\n",
       "      <th></th>\n",
       "    </tr>\n",
       "  </thead>\n",
       "  <tbody>\n",
       "    <tr>\n",
       "      <th>20211109_00_11_17</th>\n",
       "      <td>8874892</td>\n",
       "      <td>9503892</td>\n",
       "      <td>8553502.8</td>\n",
       "      <td>4276751.4</td>\n",
       "      <td>629000</td>\n",
       "      <td>4165500</td>\n",
       "    </tr>\n",
       "  </tbody>\n",
       "</table>\n",
       "</div>"
      ],
      "text/plain": [
       "                   deposit  total_amount  available_total_amount  \\\n",
       "결과생성일자                                                             \n",
       "20211109_00_11_17  8874892       9503892               8553502.8   \n",
       "\n",
       "                   total_budget  asis_total_amount  tobe_total_amount  \n",
       "결과생성일자                                                                 \n",
       "20211109_00_11_17     4276751.4             629000            4165500  "
      ]
     },
     "metadata": {},
     "output_type": "display_data"
    },
    {
     "name": "stderr",
     "output_type": "stream",
     "text": [
      "[INFO] 2021-11-09 00:12:44 - rebalancing/executor.py/planning_re_balancing, 319: Rebalance Detail: \n",
      "             product_name  current       weight  quote_unit  asis_count  asis_amount  planned_rate  planned_amount  tobe_count  tobe_amount  difference\n",
      "product_code                                                                                                                                           \n",
      "000660             SK하이닉스   107500  94593.56352         500           0            0      0.275351         1177608          11      1182500          11\n",
      "051910               LG화학   771000  56583.88224        1000           0            0      0.164709          704420           1       771000           1\n",
      "035420              NAVER   408000  55606.95563         500           0            0      0.161866          692258           2       816000           2\n",
      "005380                현대차   215000  42013.34784         500           0            0      0.122296          523030           2       430000           2\n",
      "068270               셀트리온   197000  40291.55007         500           0            0      0.117284          501595           3       591000           3\n",
      "035720                카카오   125000  29471.30717         500           0            0      0.085788          366892           3       375000           3\n",
      "036570              엔씨소프트   629000  24977.21247        1000           1       629000      0.072706          310944           0            0          -1\n"
     ]
    },
    {
     "data": {
      "text/markdown": [
       "### Rebalance Detail"
      ],
      "text/plain": [
       "<IPython.core.display.Markdown object>"
      ]
     },
     "metadata": {},
     "output_type": "display_data"
    },
    {
     "data": {
      "text/html": [
       "<div>\n",
       "<style scoped>\n",
       "    .dataframe tbody tr th:only-of-type {\n",
       "        vertical-align: middle;\n",
       "    }\n",
       "\n",
       "    .dataframe tbody tr th {\n",
       "        vertical-align: top;\n",
       "    }\n",
       "\n",
       "    .dataframe thead th {\n",
       "        text-align: right;\n",
       "    }\n",
       "</style>\n",
       "<table border=\"1\" class=\"dataframe\">\n",
       "  <thead>\n",
       "    <tr style=\"text-align: right;\">\n",
       "      <th></th>\n",
       "      <th>product_name</th>\n",
       "      <th>current</th>\n",
       "      <th>weight</th>\n",
       "      <th>quote_unit</th>\n",
       "      <th>asis_count</th>\n",
       "      <th>asis_amount</th>\n",
       "      <th>planned_rate</th>\n",
       "      <th>planned_amount</th>\n",
       "      <th>tobe_count</th>\n",
       "      <th>tobe_amount</th>\n",
       "      <th>difference</th>\n",
       "    </tr>\n",
       "    <tr>\n",
       "      <th>product_code</th>\n",
       "      <th></th>\n",
       "      <th></th>\n",
       "      <th></th>\n",
       "      <th></th>\n",
       "      <th></th>\n",
       "      <th></th>\n",
       "      <th></th>\n",
       "      <th></th>\n",
       "      <th></th>\n",
       "      <th></th>\n",
       "      <th></th>\n",
       "    </tr>\n",
       "  </thead>\n",
       "  <tbody>\n",
       "    <tr>\n",
       "      <th>000660</th>\n",
       "      <td>SK하이닉스</td>\n",
       "      <td>107500</td>\n",
       "      <td>94593.56352</td>\n",
       "      <td>500</td>\n",
       "      <td>0</td>\n",
       "      <td>0</td>\n",
       "      <td>0.275351</td>\n",
       "      <td>1177608</td>\n",
       "      <td>11</td>\n",
       "      <td>1182500</td>\n",
       "      <td>11</td>\n",
       "    </tr>\n",
       "    <tr>\n",
       "      <th>051910</th>\n",
       "      <td>LG화학</td>\n",
       "      <td>771000</td>\n",
       "      <td>56583.88224</td>\n",
       "      <td>1000</td>\n",
       "      <td>0</td>\n",
       "      <td>0</td>\n",
       "      <td>0.164709</td>\n",
       "      <td>704420</td>\n",
       "      <td>1</td>\n",
       "      <td>771000</td>\n",
       "      <td>1</td>\n",
       "    </tr>\n",
       "    <tr>\n",
       "      <th>035420</th>\n",
       "      <td>NAVER</td>\n",
       "      <td>408000</td>\n",
       "      <td>55606.95563</td>\n",
       "      <td>500</td>\n",
       "      <td>0</td>\n",
       "      <td>0</td>\n",
       "      <td>0.161866</td>\n",
       "      <td>692258</td>\n",
       "      <td>2</td>\n",
       "      <td>816000</td>\n",
       "      <td>2</td>\n",
       "    </tr>\n",
       "    <tr>\n",
       "      <th>005380</th>\n",
       "      <td>현대차</td>\n",
       "      <td>215000</td>\n",
       "      <td>42013.34784</td>\n",
       "      <td>500</td>\n",
       "      <td>0</td>\n",
       "      <td>0</td>\n",
       "      <td>0.122296</td>\n",
       "      <td>523030</td>\n",
       "      <td>2</td>\n",
       "      <td>430000</td>\n",
       "      <td>2</td>\n",
       "    </tr>\n",
       "    <tr>\n",
       "      <th>068270</th>\n",
       "      <td>셀트리온</td>\n",
       "      <td>197000</td>\n",
       "      <td>40291.55007</td>\n",
       "      <td>500</td>\n",
       "      <td>0</td>\n",
       "      <td>0</td>\n",
       "      <td>0.117284</td>\n",
       "      <td>501595</td>\n",
       "      <td>3</td>\n",
       "      <td>591000</td>\n",
       "      <td>3</td>\n",
       "    </tr>\n",
       "    <tr>\n",
       "      <th>035720</th>\n",
       "      <td>카카오</td>\n",
       "      <td>125000</td>\n",
       "      <td>29471.30717</td>\n",
       "      <td>500</td>\n",
       "      <td>0</td>\n",
       "      <td>0</td>\n",
       "      <td>0.085788</td>\n",
       "      <td>366892</td>\n",
       "      <td>3</td>\n",
       "      <td>375000</td>\n",
       "      <td>3</td>\n",
       "    </tr>\n",
       "    <tr>\n",
       "      <th>036570</th>\n",
       "      <td>엔씨소프트</td>\n",
       "      <td>629000</td>\n",
       "      <td>24977.21247</td>\n",
       "      <td>1000</td>\n",
       "      <td>1</td>\n",
       "      <td>629000</td>\n",
       "      <td>0.072706</td>\n",
       "      <td>310944</td>\n",
       "      <td>0</td>\n",
       "      <td>0</td>\n",
       "      <td>-1</td>\n",
       "    </tr>\n",
       "  </tbody>\n",
       "</table>\n",
       "</div>"
      ],
      "text/plain": [
       "             product_name  current       weight  quote_unit  asis_count  \\\n",
       "product_code                                                              \n",
       "000660             SK하이닉스   107500  94593.56352         500           0   \n",
       "051910               LG화학   771000  56583.88224        1000           0   \n",
       "035420              NAVER   408000  55606.95563         500           0   \n",
       "005380                현대차   215000  42013.34784         500           0   \n",
       "068270               셀트리온   197000  40291.55007         500           0   \n",
       "035720                카카오   125000  29471.30717         500           0   \n",
       "036570              엔씨소프트   629000  24977.21247        1000           1   \n",
       "\n",
       "              asis_amount  planned_rate  planned_amount  tobe_count  \\\n",
       "product_code                                                          \n",
       "000660                  0      0.275351         1177608          11   \n",
       "051910                  0      0.164709          704420           1   \n",
       "035420                  0      0.161866          692258           2   \n",
       "005380                  0      0.122296          523030           2   \n",
       "068270                  0      0.117284          501595           3   \n",
       "035720                  0      0.085788          366892           3   \n",
       "036570             629000      0.072706          310944           0   \n",
       "\n",
       "              tobe_amount  difference  \n",
       "product_code                           \n",
       "000660            1182500          11  \n",
       "051910             771000           1  \n",
       "035420             816000           2  \n",
       "005380             430000           2  \n",
       "068270             591000           3  \n",
       "035720             375000           3  \n",
       "036570                  0          -1  "
      ]
     },
     "metadata": {},
     "output_type": "display_data"
    }
   ],
   "source": [
    "executor.planning_re_balancing()"
   ]
  },
  {
   "cell_type": "code",
   "execution_count": null,
   "id": "21e21077",
   "metadata": {},
   "outputs": [],
   "source": []
  },
  {
   "cell_type": "code",
   "execution_count": null,
   "id": "1f7715a2",
   "metadata": {},
   "outputs": [],
   "source": []
  },
  {
   "cell_type": "code",
   "execution_count": null,
   "id": "1bdc530c",
   "metadata": {},
   "outputs": [],
   "source": []
  },
  {
   "cell_type": "code",
   "execution_count": 1,
   "id": "0363ec9f",
   "metadata": {},
   "outputs": [
    {
     "name": "stderr",
     "output_type": "stream",
     "text": [
      "[INFO] 2021-11-09 00:29:19 - re-balancing/__init__.py/<module>, 3: Initialize Re-balancing!\n",
      "[INFO] 2021-11-09 00:29:20 - re-balancing/settings.py/configure_sqlalchemy_session, 35: create engine\n",
      "[INFO] 2021-11-09 00:29:20 - re-balancing/settings.py/configure_sqlalchemy_session, 46: create Session\n"
     ]
    }
   ],
   "source": [
    "from rebalancing.process.executor import Executor"
   ]
  },
  {
   "cell_type": "code",
   "execution_count": 2,
   "id": "4d5e850e",
   "metadata": {},
   "outputs": [
    {
     "data": {
      "text/markdown": [
       "##### 리밸런싱 생성시 결과 및 로그를 저장할 폴더명을 정합니다."
      ],
      "text/plain": [
       "<IPython.core.display.Markdown object>"
      ]
     },
     "metadata": {},
     "output_type": "display_data"
    },
    {
     "name": "stdout",
     "output_type": "stream",
     "text": [
      "report_name = \n"
     ]
    },
    {
     "data": {
      "text/markdown": [
       "##### 다음 경로에 report가 저장됩니다. \n",
       "C:\\Users\\youngha\\PycharmProjects\\rebalancing\\reports\\7289926901\\overseas_20211109_00_29_20"
      ],
      "text/plain": [
       "<IPython.core.display.Markdown object>"
      ]
     },
     "metadata": {},
     "output_type": "display_data"
    }
   ],
   "source": [
    "executor = Executor('overseas', test=False)"
   ]
  },
  {
   "cell_type": "code",
   "execution_count": 3,
   "id": "c5d54361",
   "metadata": {},
   "outputs": [],
   "source": [
    "# executor.refresh_price()"
   ]
  },
  {
   "cell_type": "code",
   "execution_count": 4,
   "id": "ac384337",
   "metadata": {},
   "outputs": [
    {
     "name": "stderr",
     "output_type": "stream",
     "text": [
      "[INFO]2021-11-09 00:29:21 - pyefriend/helper.py/run_app, 29: Start APP\n"
     ]
    },
    {
     "name": "stdout",
     "output_type": "stream",
     "text": [
      "[('AAPL', '애플', 151.2, 50237.39, 0.01), ('MSFT', '마이크로소프트', 335.4, 43004.5, 0.01), ('AMZN', '아마존 닷컴', 3540.08, 38917.92, 0.01), ('VOO', 'Vanguard S&P 500 ETF', 431.56, 8983.33, 0.01)]\n",
      "['AAPL', 'MSFT', 'AMZN', 'VOO']\n"
     ]
    },
    {
     "name": "stderr",
     "output_type": "stream",
     "text": [
      "[INFO] 2021-11-09 00:29:21 - rebalancing/api.py/__init__, 69: 계좌가 존재하는 지 확인합니다.: '7289926901'\n",
      "[WARNING] 2021-11-09 00:29:21 - rebalancing/api.py/__init__, 77: 실제계좌에 성공적으로 연결되었습니다. 타겟 계좌: '7289926901'\n",
      "[INFO] 2021-11-09 00:29:22 - rebalancing/executor.py/planning_re_balancing_overseas, 379: 총 예수금(deposit): 0.0\n",
      "[INFO] 2021-11-09 00:29:22 - rebalancing/executor.py/planning_re_balancing_overseas, 381: 총 예수금 + 포트폴리오 포함 & 매수된 종목들의 평가 금액 전체 합(total_amount): 0.0\n",
      "[INFO] 2021-11-09 00:29:22 - rebalancing/executor.py/planning_re_balancing_overseas, 388: 전체 금액 중 사용할 금액(available_total_amount): 0.0\n",
      "[INFO] 2021-11-09 00:29:22 - rebalancing/executor.py/planning_re_balancing_overseas, 392: 투자에 사용할 금액(total_budget): 0\n",
      "[INFO] 2021-11-09 00:29:22 - rebalancing/executor.py/planning_re_balancing_overseas, 435: 리밸런싱된 후 전체 금액(tobe_total_amount): 0\n",
      "[INFO] 2021-11-09 00:29:22 - rebalancing/executor.py/planning_re_balancing_overseas, 436: 리밸런싱 후 감소 금액: 0\n"
     ]
    }
   ],
   "source": [
    "executor.planning_re_balancing_overseas()"
   ]
  },
  {
   "cell_type": "code",
   "execution_count": null,
   "id": "bf2e76e4",
   "metadata": {},
   "outputs": [],
   "source": []
  },
  {
   "cell_type": "code",
   "execution_count": null,
   "id": "03390157",
   "metadata": {},
   "outputs": [],
   "source": []
  },
  {
   "cell_type": "markdown",
   "id": "7fc29729",
   "metadata": {},
   "source": [
    "# 국내"
   ]
  },
  {
   "cell_type": "code",
   "execution_count": 1,
   "id": "240ac371",
   "metadata": {},
   "outputs": [],
   "source": [
    "from pyefriend import load_api"
   ]
  },
  {
   "cell_type": "code",
   "execution_count": 2,
   "id": "c581c30d",
   "metadata": {
    "scrolled": true
   },
   "outputs": [
    {
     "name": "stderr",
     "output_type": "stream",
     "text": [
      "[INFO][pyefriend][C:\\Users\\youngha\\PycharmProjects\\rebalancing\\pyefriend\\helper.py - run_app, 20] 2021-11-08 16:13:57,313: Start APP\n",
      "[INFO][pyefriend][C:\\Users\\youngha\\PycharmProjects\\rebalancing\\pyefriend\\api.py - __init__, 65] 2021-11-08 16:13:57,392: 모의투자에 성공적으로 연결되었습니다. 타겟 계좌: '5005775101'\n"
     ]
    }
   ],
   "source": [
    "api = load_api(target='domestic', account='5005775101', password='Dmazhffk1!!')"
   ]
  },
  {
   "cell_type": "code",
   "execution_count": 3,
   "id": "34de6de8",
   "metadata": {},
   "outputs": [],
   "source": [
    "product_code = '004170'"
   ]
  },
  {
   "cell_type": "code",
   "execution_count": 4,
   "id": "d6f7e0f6",
   "metadata": {
    "scrolled": true
   },
   "outputs": [],
   "source": [
    "# api.buy_stock(product_code, 1)"
   ]
  },
  {
   "cell_type": "code",
   "execution_count": 5,
   "id": "5de8fac4",
   "metadata": {},
   "outputs": [
    {
     "name": "stderr",
     "output_type": "stream",
     "text": [
      "[INFO][pyefriend][C:\\Users\\youngha\\PycharmProjects\\rebalancing\\pyefriend\\connection.py - execute_event_loop, 41] 2021-11-08 16:13:58,491: Start Event Loop\n"
     ]
    },
    {
     "data": {
      "text/plain": [
       "[{'영업일자': '20211108',\n",
       "  '최저가': '234500',\n",
       "  '최고가': '243000',\n",
       "  '시가': '237000',\n",
       "  '종가': '242000'},\n",
       " {'영업일자': '20211101',\n",
       "  '최저가': '230500',\n",
       "  '최고가': '249000',\n",
       "  '시가': '249000',\n",
       "  '종가': '233500'},\n",
       " {'영업일자': '20211025',\n",
       "  '최저가': '247000',\n",
       "  '최고가': '262500',\n",
       "  '시가': '251000',\n",
       "  '종가': '248000'},\n",
       " {'영업일자': '20211018',\n",
       "  '최저가': '251000',\n",
       "  '최고가': '265500',\n",
       "  '시가': '265000',\n",
       "  '종가': '251500'},\n",
       " {'영업일자': '20211012',\n",
       "  '최저가': '250000',\n",
       "  '최고가': '266000',\n",
       "  '시가': '260000',\n",
       "  '종가': '266000'},\n",
       " {'영업일자': '20211005',\n",
       "  '최저가': '252500',\n",
       "  '최고가': '266500',\n",
       "  '시가': '252500',\n",
       "  '종가': '257500'},\n",
       " {'영업일자': '20210927',\n",
       "  '최저가': '253000',\n",
       "  '최고가': '271000',\n",
       "  '시가': '270000',\n",
       "  '종가': '254500'},\n",
       " {'영업일자': '20210923',\n",
       "  '최저가': '264500',\n",
       "  '최고가': '274500',\n",
       "  '시가': '265500',\n",
       "  '종가': '272000'},\n",
       " {'영업일자': '20210913',\n",
       "  '최저가': '268500',\n",
       "  '최고가': '281500',\n",
       "  '시가': '273500',\n",
       "  '종가': '271000'},\n",
       " {'영업일자': '20210906',\n",
       "  '최저가': '269000',\n",
       "  '최고가': '283500',\n",
       "  '시가': '274000',\n",
       "  '종가': '275500'},\n",
       " {'영업일자': '20210830',\n",
       "  '최저가': '263000',\n",
       "  '최고가': '275500',\n",
       "  '시가': '266000',\n",
       "  '종가': '274500'},\n",
       " {'영업일자': '20210823',\n",
       "  '최저가': '245500',\n",
       "  '최고가': '269000',\n",
       "  '시가': '247000',\n",
       "  '종가': '264500'},\n",
       " {'영업일자': '20210817',\n",
       "  '최저가': '244000',\n",
       "  '최고가': '275000',\n",
       "  '시가': '273500',\n",
       "  '종가': '246000'},\n",
       " {'영업일자': '20210809',\n",
       "  '최저가': '266000',\n",
       "  '최고가': '280500',\n",
       "  '시가': '268500',\n",
       "  '종가': '271500'},\n",
       " {'영업일자': '20210802',\n",
       "  '최저가': '264000',\n",
       "  '최고가': '274000',\n",
       "  '시가': '267500',\n",
       "  '종가': '270000'},\n",
       " {'영업일자': '20210726',\n",
       "  '최저가': '265000',\n",
       "  '최고가': '277500',\n",
       "  '시가': '277500',\n",
       "  '종가': '266000'},\n",
       " {'영업일자': '20210719',\n",
       "  '최저가': '271500',\n",
       "  '최고가': '282500',\n",
       "  '시가': '282000',\n",
       "  '종가': '274000'},\n",
       " {'영업일자': '20210712',\n",
       "  '최저가': '271000',\n",
       "  '최고가': '282000',\n",
       "  '시가': '272500',\n",
       "  '종가': '282000'},\n",
       " {'영업일자': '20210705',\n",
       "  '최저가': '266500',\n",
       "  '최고가': '286500',\n",
       "  '시가': '282500',\n",
       "  '종가': '272000'},\n",
       " {'영업일자': '20210628',\n",
       "  '최저가': '281000',\n",
       "  '최고가': '288000',\n",
       "  '시가': '284500',\n",
       "  '종가': '282000'},\n",
       " {'영업일자': '20210621',\n",
       "  '최저가': '273000',\n",
       "  '최고가': '286000',\n",
       "  '시가': '280000',\n",
       "  '종가': '284000'},\n",
       " {'영업일자': '20210614',\n",
       "  '최저가': '278000',\n",
       "  '최고가': '311000',\n",
       "  '시가': '300500',\n",
       "  '종가': '279500'},\n",
       " {'영업일자': '20210607',\n",
       "  '최저가': '299000',\n",
       "  '최고가': '314000',\n",
       "  '시가': '307000',\n",
       "  '종가': '299500'},\n",
       " {'영업일자': '20210531',\n",
       "  '최저가': '304500',\n",
       "  '최고가': '327500',\n",
       "  '시가': '318000',\n",
       "  '종가': '306000'},\n",
       " {'영업일자': '20210524',\n",
       "  '최저가': '298500',\n",
       "  '최고가': '319500',\n",
       "  '시가': '299500',\n",
       "  '종가': '315000'},\n",
       " {'영업일자': '20210517',\n",
       "  '최저가': '300000',\n",
       "  '최고가': '322500',\n",
       "  '시가': '310000',\n",
       "  '종가': '302000'},\n",
       " {'영업일자': '20210510',\n",
       "  '최저가': '305500',\n",
       "  '최고가': '323500',\n",
       "  '시가': '314000',\n",
       "  '종가': '308000'},\n",
       " {'영업일자': '20210503',\n",
       "  '최저가': '304500',\n",
       "  '최고가': '321000',\n",
       "  '시가': '304500',\n",
       "  '종가': '315500'},\n",
       " {'영업일자': '20210426',\n",
       "  '최저가': '272500',\n",
       "  '최고가': '315500',\n",
       "  '시가': '275000',\n",
       "  '종가': '304500'},\n",
       " {'영업일자': '20210419',\n",
       "  '최저가': '270500',\n",
       "  '최고가': '282500',\n",
       "  '시가': '278000',\n",
       "  '종가': '275000'}]"
      ]
     },
     "execution_count": 5,
     "metadata": {},
     "output_type": "execute_result"
    }
   ],
   "source": [
    "api.get_stock_info_detail(product_code)"
   ]
  },
  {
   "cell_type": "code",
   "execution_count": null,
   "id": "71e67bea",
   "metadata": {},
   "outputs": [],
   "source": []
  },
  {
   "cell_type": "code",
   "execution_count": null,
   "id": "46fa3468",
   "metadata": {},
   "outputs": [],
   "source": []
  },
  {
   "cell_type": "markdown",
   "id": "e0b28c4d",
   "metadata": {},
   "source": [
    "# 미국"
   ]
  },
  {
   "cell_type": "code",
   "execution_count": 5,
   "id": "ceee9899",
   "metadata": {},
   "outputs": [],
   "source": [
    "from pyefriend import load_api"
   ]
  },
  {
   "cell_type": "code",
   "execution_count": 6,
   "id": "1511d814",
   "metadata": {},
   "outputs": [
    {
     "name": "stderr",
     "output_type": "stream",
     "text": [
      "[INFO]2021-11-09 00:30:49 - pyefriend/api.py/__init__, 69: 계좌가 존재하는 지 확인합니다.: '5005775101'\n"
     ]
    },
    {
     "ename": "AccountNotExistsException",
     "evalue": "입력한 계좌가 존재하지 않습니다.",
     "output_type": "error",
     "traceback": [
      "\u001b[1;31m---------------------------------------------------------------------------\u001b[0m",
      "\u001b[1;31mAccountNotExistsException\u001b[0m                 Traceback (most recent call last)",
      "\u001b[1;32m~\\AppData\\Local\\Temp/ipykernel_2400/218569867.py\u001b[0m in \u001b[0;36m<module>\u001b[1;34m\u001b[0m\n\u001b[1;32m----> 1\u001b[1;33m \u001b[0mapi\u001b[0m \u001b[1;33m=\u001b[0m \u001b[0mload_api\u001b[0m\u001b[1;33m(\u001b[0m\u001b[0mtarget\u001b[0m\u001b[1;33m=\u001b[0m\u001b[1;34m'overseas'\u001b[0m\u001b[1;33m,\u001b[0m \u001b[0maccount\u001b[0m\u001b[1;33m=\u001b[0m\u001b[1;34m'5005775101'\u001b[0m\u001b[1;33m,\u001b[0m \u001b[0mpassword\u001b[0m\u001b[1;33m=\u001b[0m\u001b[1;34m'Dmazhffk1!!'\u001b[0m\u001b[1;33m)\u001b[0m\u001b[1;33m\u001b[0m\u001b[1;33m\u001b[0m\u001b[0m\n\u001b[0m",
      "\u001b[1;32m~\\PycharmProjects\\rebalancing\\pyefriend\\helper.py\u001b[0m in \u001b[0;36mload_api\u001b[1;34m(target, account, password, logger)\u001b[0m\n\u001b[0;32m     46\u001b[0m \u001b[1;33m\u001b[0m\u001b[0m\n\u001b[0;32m     47\u001b[0m     \u001b[1;32melif\u001b[0m \u001b[0mtarget\u001b[0m \u001b[1;33m==\u001b[0m \u001b[0mTarget\u001b[0m\u001b[1;33m.\u001b[0m\u001b[0mOVERSEAS\u001b[0m\u001b[1;33m:\u001b[0m\u001b[1;33m\u001b[0m\u001b[1;33m\u001b[0m\u001b[0m\n\u001b[1;32m---> 48\u001b[1;33m         \u001b[1;32mreturn\u001b[0m \u001b[0mOverSeasApi\u001b[0m\u001b[1;33m(\u001b[0m\u001b[0mtarget_account\u001b[0m\u001b[1;33m=\u001b[0m\u001b[0maccount\u001b[0m\u001b[1;33m,\u001b[0m \u001b[0mpassword\u001b[0m\u001b[1;33m=\u001b[0m\u001b[0mpassword\u001b[0m\u001b[1;33m,\u001b[0m \u001b[0mlogger\u001b[0m\u001b[1;33m=\u001b[0m\u001b[0mlogger\u001b[0m\u001b[1;33m)\u001b[0m\u001b[1;33m\u001b[0m\u001b[1;33m\u001b[0m\u001b[0m\n\u001b[0m\u001b[0;32m     49\u001b[0m \u001b[1;33m\u001b[0m\u001b[0m\n\u001b[0;32m     50\u001b[0m \u001b[1;33m\u001b[0m\u001b[0m\n",
      "\u001b[1;32m~\\PycharmProjects\\rebalancing\\pyefriend\\api.py\u001b[0m in \u001b[0;36m__init__\u001b[1;34m(self, target_account, password, logger)\u001b[0m\n\u001b[0;32m     70\u001b[0m \u001b[1;33m\u001b[0m\u001b[0m\n\u001b[0;32m     71\u001b[0m         \u001b[1;32mif\u001b[0m \u001b[1;32mnot\u001b[0m \u001b[0mself\u001b[0m\u001b[1;33m.\u001b[0m\u001b[0mis_account_exist\u001b[0m\u001b[1;33m:\u001b[0m\u001b[1;33m\u001b[0m\u001b[1;33m\u001b[0m\u001b[0m\n\u001b[1;32m---> 72\u001b[1;33m             \u001b[1;32mraise\u001b[0m \u001b[0mAccountNotExistsException\u001b[0m\u001b[1;33m(\u001b[0m\u001b[1;33m)\u001b[0m\u001b[1;33m\u001b[0m\u001b[1;33m\u001b[0m\u001b[0m\n\u001b[0m\u001b[0;32m     73\u001b[0m \u001b[1;33m\u001b[0m\u001b[0m\n\u001b[0;32m     74\u001b[0m         \u001b[1;32mif\u001b[0m \u001b[0mself\u001b[0m\u001b[1;33m.\u001b[0m\u001b[0mconn\u001b[0m\u001b[1;33m.\u001b[0m\u001b[0mIsVTS\u001b[0m\u001b[1;33m(\u001b[0m\u001b[1;33m)\u001b[0m\u001b[1;33m:\u001b[0m\u001b[1;33m\u001b[0m\u001b[1;33m\u001b[0m\u001b[0m\n",
      "\u001b[1;31mAccountNotExistsException\u001b[0m: 입력한 계좌가 존재하지 않습니다."
     ]
    }
   ],
   "source": [
    "api = load_api(target='overseas', account='7289926901', password='3685')"
   ]
  },
  {
   "cell_type": "code",
   "execution_count": 3,
   "id": "2b5a7fb2",
   "metadata": {},
   "outputs": [],
   "source": [
    "product_code = 'VOO'\n",
    "market_code = 'AMEX'"
   ]
  },
  {
   "cell_type": "code",
   "execution_count": 4,
   "id": "558e500f",
   "metadata": {},
   "outputs": [
    {
     "data": {
      "text/plain": [
       "(430.71, 0.0, 0.0, 0.0, 430.71)"
      ]
     },
     "execution_count": 4,
     "metadata": {},
     "output_type": "execute_result"
    }
   ],
   "source": [
    "api.get_stock_info(product_code, market_code)"
   ]
  },
  {
   "cell_type": "code",
   "execution_count": 6,
   "id": "a7fc800b",
   "metadata": {},
   "outputs": [
    {
     "data": {
      "text/plain": [
       "[{'영업일자': '20211108',\n",
       "  '최저가': 430.71,\n",
       "  '최고가': 430.71,\n",
       "  '시가': 430.71,\n",
       "  '종가': 430.71},\n",
       " {'영업일자': '20211101',\n",
       "  '최저가': 421.28,\n",
       "  '최고가': 432.76,\n",
       "  '시가': 423.19,\n",
       "  '종가': 430.71},\n",
       " {'영업일자': '20211025',\n",
       "  '최저가': 415.93,\n",
       "  '최고가': 422.515,\n",
       "  '시가': 417.64,\n",
       "  '종가': 422.16},\n",
       " {'영업일자': '20211018', '최저가': 407.53, '최고가': 418.0, '시가': 408.2, '종가': 416.59},\n",
       " {'영업일자': '20211011',\n",
       "  '최저가': 396.75,\n",
       "  '최고가': 410.26,\n",
       "  '시가': 401.91,\n",
       "  '종가': 409.93},\n",
       " {'영업일자': '20211004',\n",
       "  '최저가': 391.96,\n",
       "  '최고가': 406.05,\n",
       "  '시가': 398.12,\n",
       "  '종가': 402.49},\n",
       " {'영업일자': '20210927',\n",
       "  '최저가': 392.77,\n",
       "  '최고가': 409.57,\n",
       "  '시가': 408.4208,\n",
       "  '종가': 399.12},\n",
       " {'영업일자': '20210920',\n",
       "  '최저가': 395.57,\n",
       "  '최고가': 410.32,\n",
       "  '시가': 401.11,\n",
       "  '종가': 409.46},\n",
       " {'영업일자': '20210913',\n",
       "  '최저가': 406.77,\n",
       "  '최고가': 412.71,\n",
       "  '시가': 412.52,\n",
       "  '종가': 407.08},\n",
       " {'영업일자': '20210907',\n",
       "  '최저가': 409.415,\n",
       "  '최고가': 416.29,\n",
       "  '시가': 416.27,\n",
       "  '종가': 409.58},\n",
       " {'영업일자': '20210830',\n",
       "  '최저가': 414.39,\n",
       "  '최고가': 417.44,\n",
       "  '시가': 414.66,\n",
       "  '종가': 416.57},\n",
       " {'영업일자': '20210823',\n",
       "  '최저가': 409.23,\n",
       "  '최고가': 414.33,\n",
       "  '시가': 409.25,\n",
       "  '종가': 413.86},\n",
       " {'영업일자': '20210816',\n",
       "  '최저가': 400.931,\n",
       "  '최고가': 411.01,\n",
       "  '시가': 408.71,\n",
       "  '종가': 407.61},\n",
       " {'영업일자': '20210809',\n",
       "  '최저가': 405.69,\n",
       "  '최고가': 409.96,\n",
       "  '시가': 406.75,\n",
       "  '종가': 409.96},\n",
       " {'영업일자': '20210802',\n",
       "  '최저가': 400.92,\n",
       "  '최고가': 407.18,\n",
       "  '시가': 404.78,\n",
       "  '종가': 406.86},\n",
       " {'영업일자': '20210726', '최저가': 400.8, '최고가': 406.13, '시가': 403.92, '종가': 403.15},\n",
       " {'영업일자': '20210719',\n",
       "  '최저가': 387.93,\n",
       "  '최고가': 404.75,\n",
       "  '시가': 391.78,\n",
       "  '종가': 404.38},\n",
       " {'영업일자': '20210712', '최저가': 396.14, '최고가': 402.57, '시가': 400.3, '종가': 396.61},\n",
       " {'영업일자': '20210706',\n",
       "  '최저가': 393.02,\n",
       "  '최고가': 400.65,\n",
       "  '시가': 398.77,\n",
       "  '종가': 400.37},\n",
       " {'영업일자': '20210628',\n",
       "  '최저가': 392.66,\n",
       "  '최고가': 399.05,\n",
       "  '시가': 394.03,\n",
       "  '종가': 398.75},\n",
       " {'영업일자': '20210621', '최저가': 383.65, '최고가': 393.92, '시가': 384.5, '종가': 393.5},\n",
       " {'영업일자': '20210614', '최저가': 382.52, '최고가': 391.2, '시가': 390.21, '종가': 382.82},\n",
       " {'영업일자': '20210607',\n",
       "  '최저가': 386.44,\n",
       "  '최고가': 390.3597,\n",
       "  '시가': 388.52,\n",
       "  '종가': 390.09},\n",
       " {'영업일자': '20210601', '최저가': 382.7, '최고가': 388.8, '시가': 388.5, '종가': 388.5},\n",
       " {'영업일자': '20210524',\n",
       "  '최저가': 383.44,\n",
       "  '최고가': 387.27,\n",
       "  '시가': 383.69,\n",
       "  '종가': 386.13},\n",
       " {'영업일자': '20210517', '최저가': 372.62, '최고가': 384.45, '시가': 381.9, '종가': 381.47},\n",
       " {'영업일자': '20210510',\n",
       "  '최저가': 372.13,\n",
       "  '최고가': 388.66,\n",
       "  '시가': 388.41,\n",
       "  '종가': 382.95},\n",
       " {'영업일자': '20210503',\n",
       "  '최저가': 378.45,\n",
       "  '최고가': 388.68,\n",
       "  '시가': 385.56,\n",
       "  '종가': 388.03},\n",
       " {'영업일자': '20210426',\n",
       "  '최저가': 382.72,\n",
       "  '최고가': 386.74,\n",
       "  '시가': 383.73,\n",
       "  '종가': 383.57},\n",
       " {'영업일자': '20210419',\n",
       "  '최저가': 377.465,\n",
       "  '최고가': 384.455,\n",
       "  '시가': 382.62,\n",
       "  '종가': 383.03},\n",
       " {'영업일자': '20210412',\n",
       "  '최저가': 377.0799,\n",
       "  '최고가': 384.15,\n",
       "  '시가': 377.7,\n",
       "  '종가': 383.63},\n",
       " {'영업일자': '20210405', '최저가': 370.81, '최고가': 378.4, '시가': 370.89, '종가': 378.25},\n",
       " {'영업일자': '20210329',\n",
       "  '최저가': 361.1097,\n",
       "  '최고가': 368.29,\n",
       "  '시가': 362.57,\n",
       "  '종가': 368.16},\n",
       " {'영업일자': '20210322',\n",
       "  '최저가': 354.14,\n",
       "  '최고가': 364.37,\n",
       "  '시가': 359.79,\n",
       "  '종가': 364.01},\n",
       " {'영업일자': '20210315',\n",
       "  '최저가': 357.14,\n",
       "  '최고가': 366.05,\n",
       "  '시가': 362.67,\n",
       "  '종가': 359.23},\n",
       " {'영업일자': '20210308',\n",
       "  '최저가': 350.66,\n",
       "  '최고가': 363.76,\n",
       "  '시가': 353.63,\n",
       "  '종가': 362.36},\n",
       " {'영업일자': '20210301',\n",
       "  '최저가': 341.915,\n",
       "  '최고가': 359.39,\n",
       "  '시가': 354.55,\n",
       "  '종가': 352.69},\n",
       " {'영업일자': '20210222',\n",
       "  '최저가': 347.71,\n",
       "  '최고가': 360.58,\n",
       "  '시가': 355.84,\n",
       "  '종가': 349.59},\n",
       " {'영업일자': '20210216',\n",
       "  '최저가': 356.49,\n",
       "  '최고가': 362.37,\n",
       "  '시가': 362.15,\n",
       "  '종가': 358.59},\n",
       " {'영업일자': '20210208', '최저가': 356.3, '최고가': 361.19, '시가': 357.92, '종가': 361.05},\n",
       " {'영업일자': '20210201',\n",
       "  '최저가': 341.4,\n",
       "  '최고가': 357.1312,\n",
       "  '시가': 343.63,\n",
       "  '종가': 356.44},\n",
       " {'영업일자': '20210125',\n",
       "  '최저가': 338.57,\n",
       "  '최고가': 354.645,\n",
       "  '시가': 352.71,\n",
       "  '종가': 340.18},\n",
       " {'영업일자': '20210119', '최저가': 346.36, '최고가': 353.835, '시가': 347.8, '종가': 351.9},\n",
       " {'영업일자': '20210111',\n",
       "  '최저가': 343.53,\n",
       "  '최고가': 350.3183,\n",
       "  '시가': 347.36,\n",
       "  '종가': 345.37},\n",
       " {'영업일자': '20210104',\n",
       "  '최저가': 335.37,\n",
       "  '최고가': 350.619,\n",
       "  '시가': 345.02,\n",
       "  '종가': 350.42},\n",
       " {'영업일자': '20201228',\n",
       "  '최저가': 340.87,\n",
       "  '최고가': 344.37,\n",
       "  '시가': 341.74,\n",
       "  '종가': 343.69},\n",
       " {'영업일자': '20201221',\n",
       "  '최저가': 334.11,\n",
       "  '최고가': 340.38,\n",
       "  '시가': 336.83,\n",
       "  '종가': 339.16},\n",
       " {'영업일자': '20201214', '최저가': 334.89, '최고가': 342.5, '시가': 338.76, '종가': 340.64},\n",
       " {'영업일자': '20201207',\n",
       "  '최저가': 333.77,\n",
       "  '최고가': 340.9329,\n",
       "  '시가': 339.07,\n",
       "  '종가': 336.55},\n",
       " {'영업일자': '20201130', '최저가': 330.04, '최고가': 339.84, '시가': 333.4, '종가': 339.81},\n",
       " {'영업일자': '20201123',\n",
       "  '최저가': 326.06,\n",
       "  '최고가': 334.61,\n",
       "  '시가': 328.28,\n",
       "  '종가': 334.14},\n",
       " {'영업일자': '20201116',\n",
       "  '최저가': 325.41,\n",
       "  '최고가': 333.12,\n",
       "  '시가': 331.65,\n",
       "  '종가': 326.49},\n",
       " {'영업일자': '20201109', '최저가': 322.06, '최고가': 335.2, '시가': 334.36, '종가': 329.01},\n",
       " {'영업일자': '20201102',\n",
       "  '최저가': 300.63,\n",
       "  '최고가': 323.55,\n",
       "  '시가': 303.37,\n",
       "  '종가': 321.75},\n",
       " {'영업일자': '20201026',\n",
       "  '최저가': 296.37,\n",
       "  '최고가': 315.08,\n",
       "  '시가': 314.31,\n",
       "  '종가': 299.82},\n",
       " {'영업일자': '20201019', '최저가': 312.99, '최고가': 320.89, '시가': 320.3, '종가': 317.65},\n",
       " {'영업일자': '20201012',\n",
       "  '최저가': 315.2252,\n",
       "  '최고가': 325.222,\n",
       "  '시가': 321.14,\n",
       "  '종가': 318.99},\n",
       " {'영업일자': '20201005',\n",
       "  '최저가': 307.1806,\n",
       "  '최고가': 319.0999,\n",
       "  '시가': 308.69,\n",
       "  '종가': 318.58},\n",
       " {'영업일자': '20200928',\n",
       "  '최저가': 304.215,\n",
       "  '최고가': 311.11,\n",
       "  '시가': 307.42,\n",
       "  '종가': 306.72},\n",
       " {'영업일자': '20200921',\n",
       "  '최저가': 295.04,\n",
       "  '최고가': 305.55,\n",
       "  '시가': 300.47,\n",
       "  '종가': 303.28},\n",
       " {'영업일자': '20200914', '최저가': 302.55, '최고가': 315.18, '시가': 310.08, '종가': 305.0},\n",
       " {'영업일자': '20200908',\n",
       "  '최저가': 304.17,\n",
       "  '최고가': 314.71,\n",
       "  '시가': 309.35,\n",
       "  '종가': 306.98},\n",
       " {'영업일자': '20200831', '최저가': 306.9, '최고가': 329.67, '시가': 321.98, '종가': 314.82},\n",
       " {'영업일자': '20200824',\n",
       "  '최저가': 313.37,\n",
       "  '최고가': 322.28,\n",
       "  '시가': 314.355,\n",
       "  '종가': 322.15},\n",
       " {'영업일자': '20200817',\n",
       "  '최저가': 308.02,\n",
       "  '최고가': 312.28,\n",
       "  '시가': 310.44,\n",
       "  '종가': 311.93},\n",
       " {'영업일자': '20200810',\n",
       "  '최저가': 305.07,\n",
       "  '최고가': 310.81,\n",
       "  '시가': 307.88,\n",
       "  '종가': 309.51},\n",
       " {'영업일자': '20200803', '최저가': 301.13, '최고가': 307.6, '시가': 301.65, '종가': 307.36},\n",
       " {'영업일자': '20200727', '최저가': 293.67, '최고가': 300.1, '시가': 295.48, '종가': 300.1},\n",
       " {'영업일자': '20200720', '최저가': 293.3, '최고가': 300.62, '시가': 295.33, '종가': 294.82},\n",
       " {'영업일자': '20200713',\n",
       "  '최저가': 286.63,\n",
       "  '최고가': 296.7512,\n",
       "  '시가': 294.1,\n",
       "  '종가': 295.55},\n",
       " {'영업일자': '20200706', '최저가': 285.41, '최고가': 292.01, '시가': 290.67, '종가': 291.8},\n",
       " {'영업일자': '20200629',\n",
       "  '최저가': 274.72,\n",
       "  '최고가': 290.05,\n",
       "  '시가': 276.89,\n",
       "  '종가': 286.81},\n",
       " {'영업일자': '20200622',\n",
       "  '최저가': 276.52,\n",
       "  '최고가': 290.43,\n",
       "  '시가': 284.35,\n",
       "  '종가': 277.11},\n",
       " {'영업일자': '20200615',\n",
       "  '최저가': 272.77,\n",
       "  '최고가': 290.27,\n",
       "  '시가': 273.91,\n",
       "  '종가': 284.97},\n",
       " {'영업일자': '20200608', '최저가': 274.5, '최고가': 297.32, '시가': 294.43, '종가': 279.65},\n",
       " {'영업일자': '20200601',\n",
       "  '최저가': 278.57,\n",
       "  '최고가': 295.38,\n",
       "  '시가': 279.07,\n",
       "  '종가': 293.61},\n",
       " {'영업일자': '20200526',\n",
       "  '최저가': 272.86,\n",
       "  '최고가': 282.04,\n",
       "  '시가': 277.53,\n",
       "  '종가': 279.75},\n",
       " {'영업일자': '20200518',\n",
       "  '최저가': 268.34,\n",
       "  '최고가': 273.79,\n",
       "  '시가': 269.32,\n",
       "  '종가': 271.55},\n",
       " {'영업일자': '20200511', '최저가': 253.97, '최고가': 270.4, '시가': 266.78, '종가': 263.04},\n",
       " {'영업일자': '20200504',\n",
       "  '최저가': 256.53,\n",
       "  '최고가': 269.14,\n",
       "  '시가': 257.92,\n",
       "  '종가': 268.78},\n",
       " {'영업일자': '20200427', '최저가': 258.74, '최고가': 271.0, '시가': 262.01, '종가': 259.82},\n",
       " {'영업일자': '20200420', '최저가': 250.0, '최고가': 263.1, '시가': 259.65, '종가': 260.14},\n",
       " {'영업일자': '20200413',\n",
       "  '최저가': 249.3766,\n",
       "  '최고가': 264.0,\n",
       "  '시가': 254.64,\n",
       "  '종가': 263.61},\n",
       " {'영업일자': '20200406',\n",
       "  '최저가': 235.93,\n",
       "  '최고가': 258.3899,\n",
       "  '시가': 236.96,\n",
       "  '종가': 255.67},\n",
       " {'영업일자': '20200330',\n",
       "  '최저가': 224.13,\n",
       "  '최고가': 241.94,\n",
       "  '시가': 234.92,\n",
       "  '종가': 228.02},\n",
       " {'영업일자': '20200323',\n",
       "  '최저가': 200.55,\n",
       "  '최고가': 241.44,\n",
       "  '시가': 209.63,\n",
       "  '종가': 232.86},\n",
       " {'영업일자': '20200316',\n",
       "  '최저가': 208.31,\n",
       "  '최고가': 234.77,\n",
       "  '시가': 222.85,\n",
       "  '종가': 210.74},\n",
       " {'영업일자': '20200309',\n",
       "  '최저가': 225.81,\n",
       "  '최고가': 263.81,\n",
       "  '시가': 253.89,\n",
       "  '종가': 247.64},\n",
       " {'영업일자': '20200302',\n",
       "  '최저가': 266.6,\n",
       "  '최고가': 288.3197,\n",
       "  '시가': 274.0,\n",
       "  '종가': 273.19},\n",
       " {'영업일자': '20200224',\n",
       "  '최저가': 262.25,\n",
       "  '최고가': 299.378,\n",
       "  '시가': 296.96,\n",
       "  '종가': 271.74},\n",
       " {'영업일자': '20200218',\n",
       "  '최저가': 305.62,\n",
       "  '최고가': 311.59,\n",
       "  '시가': 309.24,\n",
       "  '종가': 306.49},\n",
       " {'영업일자': '20200210',\n",
       "  '최저가': 304.35,\n",
       "  '최고가': 310.72,\n",
       "  '시가': 304.39,\n",
       "  '종가': 310.28},\n",
       " {'영업일자': '20200203',\n",
       "  '최저가': 297.0348,\n",
       "  '최고가': 307.08,\n",
       "  '시가': 297.12,\n",
       "  '종가': 305.33},\n",
       " {'영업일자': '20200127',\n",
       "  '최저가': 294.72,\n",
       "  '최고가': 301.935,\n",
       "  '시가': 296.84,\n",
       "  '종가': 295.69},\n",
       " {'영업일자': '20200121',\n",
       "  '최저가': 300.8086,\n",
       "  '최고가': 305.92,\n",
       "  '시가': 304.08,\n",
       "  '종가': 302.03},\n",
       " {'영업일자': '20200113', '최저가': 299.48, '최고가': 305.2, '시가': 299.91, '종가': 305.06},\n",
       " {'영업일자': '20200106',\n",
       "  '최저가': 294.35,\n",
       "  '최고가': 300.86,\n",
       "  '시가': 294.42,\n",
       "  '종가': 299.26},\n",
       " {'영업일자': '20191230',\n",
       "  '최저가': 294.17,\n",
       "  '최고가': 298.45,\n",
       "  '시가': 296.75,\n",
       "  '종가': 296.24},\n",
       " {'영업일자': '20191223',\n",
       "  '최저가': 294.85,\n",
       "  '최고가': 297.51,\n",
       "  '시가': 295.49,\n",
       "  '종가': 296.67},\n",
       " {'영업일자': '20191216', '최저가': 293.22, '최고가': 296.76, '시가': 293.26, '종가': 296.3}]"
      ]
     },
     "execution_count": 6,
     "metadata": {},
     "output_type": "execute_result"
    }
   ],
   "source": [
    "api.get_stock_histories(product_code, market_code, )"
   ]
  },
  {
   "cell_type": "code",
   "execution_count": null,
   "id": "d8567587",
   "metadata": {},
   "outputs": [],
   "source": []
  }
 ],
 "metadata": {
  "kernelspec": {
   "display_name": "Python 3 (ipykernel)",
   "language": "python",
   "name": "python3"
  },
  "language_info": {
   "codemirror_mode": {
    "name": "ipython",
    "version": 3
   },
   "file_extension": ".py",
   "mimetype": "text/x-python",
   "name": "python",
   "nbconvert_exporter": "python",
   "pygments_lexer": "ipython3",
   "version": "3.9.7"
  }
 },
 "nbformat": 4,
 "nbformat_minor": 5
}
