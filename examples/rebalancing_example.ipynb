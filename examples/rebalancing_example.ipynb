{
 "cells": [
  {
   "cell_type": "markdown",
   "id": "642e5257",
   "metadata": {},
   "source": [
    "# set HOME/CONF path"
   ]
  },
  {
   "cell_type": "code",
   "execution_count": 1,
   "id": "85040808",
   "metadata": {},
   "outputs": [],
   "source": [
    "import os\n",
    "\n",
    "os.environ['EFRIEND_HOME'] = 'C:/Users/youngha/PycharmProjects/rebalancing'\n",
    "os.environ['EFRIEND_CONF'] = 'C:/Users/youngha/PycharmProjects/rebalancing/config.yml'"
   ]
  },
  {
   "cell_type": "markdown",
   "id": "2e7a97f9",
   "metadata": {},
   "source": [
    "# Import Libarary"
   ]
  },
  {
   "cell_type": "code",
   "execution_count": 2,
   "id": "fdbc282e",
   "metadata": {},
   "outputs": [
    {
     "name": "stderr",
     "output_type": "stream",
     "text": [
      "[INFO] 2021-11-09 20:26:27 - re-balancing/settings.py/<module>, 58: Initialize Re-balancing!\n",
      "[INFO] 2021-11-09 20:26:27 - re-balancing/settings.py/configure_sqlalchemy_session, 39: create engine\n",
      "[INFO] 2021-11-09 20:26:27 - re-balancing/settings.py/configure_sqlalchemy_session, 50: create Session\n"
     ]
    },
    {
     "name": "stdout",
     "output_type": "stream",
     "text": [
      "using jupyter kernel now: 5f1e3c58-2328-44ed-8fa0-0e4c06c49120\n"
     ]
    }
   ],
   "source": [
    "from pyefriend_api.process.db import reset_db, init_data, init_db\n",
    "from pyefriend_api.models import Report"
   ]
  },
  {
   "cell_type": "markdown",
   "id": "ac679e4c",
   "metadata": {},
   "source": [
    "# Database"
   ]
  },
  {
   "cell_type": "code",
   "execution_count": 2,
   "id": "5448a1b4",
   "metadata": {},
   "outputs": [
    {
     "name": "stderr",
     "output_type": "stream",
     "text": [
      "[INFO] 2021-11-08 21:38:09 - re-balancing/db.py/init_db, 13: create_all: Done\n"
     ]
    }
   ],
   "source": [
    "init_db()"
   ]
  },
  {
   "cell_type": "code",
   "execution_count": 2,
   "id": "35073154",
   "metadata": {},
   "outputs": [
    {
     "name": "stderr",
     "output_type": "stream",
     "text": [
      "[INFO][REBALANCING][C:\\Users\\youngha\\PycharmProjects\\rebalancing\\rebalancing\\process\\db.py - reset_db, 19] 2021-11-08 17:40:54,069: drop_all: Done\n",
      "[INFO][REBALANCING][C:\\Users\\youngha\\PycharmProjects\\rebalancing\\rebalancing\\process\\db.py - init_db, 13] 2021-11-08 17:40:54,136: create_all: Done\n"
     ]
    }
   ],
   "source": [
    "reset_db()"
   ]
  },
  {
   "cell_type": "code",
   "execution_count": 3,
   "id": "320a738a",
   "metadata": {
    "scrolled": true
   },
   "outputs": [
    {
     "name": "stderr",
     "output_type": "stream",
     "text": [
      "[INFO][REBALANCING][C:\\Users\\youngha\\PycharmProjects\\rebalancing\\rebalancing\\process\\db.py - init_data, 55] 2021-11-08 17:40:54,388: Domestic: successfully inserted\n",
      "[INFO][REBALANCING][C:\\Users\\youngha\\PycharmProjects\\rebalancing\\rebalancing\\process\\db.py - init_data, 59] 2021-11-08 17:40:54,425: Overseas: successfully inserted\n"
     ]
    }
   ],
   "source": [
    "init_data()"
   ]
  },
  {
   "cell_type": "markdown",
   "id": "8e35f7fa",
   "metadata": {},
   "source": [
    "# report: 리밸런싱 실행"
   ]
  },
  {
   "cell_type": "markdown",
   "id": "f8a5c672",
   "metadata": {},
   "source": [
    "### Domestic: 국내 실행"
   ]
  },
  {
   "cell_type": "code",
   "execution_count": 3,
   "id": "a6d6f0bd",
   "metadata": {
    "scrolled": true
   },
   "outputs": [
    {
     "data": {
      "text/markdown": [
       "##### 리밸런싱 생성시 결과 및 로그를 저장할 폴더명을 정합니다."
      ],
      "text/plain": [
       "<IPython.core.display.Markdown object>"
      ]
     },
     "metadata": {},
     "output_type": "display_data"
    },
    {
     "name": "stdout",
     "output_type": "stream",
     "text": [
      "입력하지 않을 경우 계좌명으로 설정됩니다\n",
      "report_name = youngha.park\n"
     ]
    },
    {
     "data": {
      "text/markdown": [
       "##### 다음 경로에 report가 저장됩니다. \n",
       "C:\\Users\\youngha\\PycharmProjects\\rebalancing\\reports\\youngha.park\\domestic_20211109_20_18_10"
      ],
      "text/plain": [
       "<IPython.core.display.Markdown object>"
      ]
     },
     "metadata": {},
     "output_type": "display_data"
    }
   ],
   "source": [
    "report = Report('domestic', test=True)"
   ]
  },
  {
   "cell_type": "markdown",
   "id": "0a810cc2",
   "metadata": {},
   "source": [
    "### refresh_price: 종목평가금액 최신화"
   ]
  },
  {
   "cell_type": "code",
   "execution_count": 4,
   "id": "5e6ca771",
   "metadata": {
    "scrolled": false
   },
   "outputs": [
    {
     "name": "stderr",
     "output_type": "stream",
     "text": [
      "[INFO] 2021-11-09 20:18:16 - re-balancing/executor.py/refresh_price, 166: 종목 리스트를 최신화합니다.\n",
      "[INFO] 2021-11-09 20:18:16 - re-balancing/executor.py/refresh_price, 166: 종목 리스트를 최신화합니다.\n",
      "[INFO]2021-11-09 20:18:16 - pyefriend/helper.py/run_app, 29: Start APP\n",
      "[INFO] 2021-11-09 20:18:16 - re-balancing/api.py/__init__, 72: 계좌가 존재하는 지 확인합니다.: '5005775101'\n",
      "[INFO] 2021-11-09 20:18:16 - re-balancing/api.py/__init__, 72: 계좌가 존재하는 지 확인합니다.: '5005775101'\n",
      "[INFO] 2021-11-09 20:18:16 - re-balancing/api.py/__init__, 78: 모의투자에 성공적으로 연결되었습니다. 타겟 계좌: '5005775101'\n",
      "[INFO] 2021-11-09 20:18:16 - re-balancing/api.py/__init__, 78: 모의투자에 성공적으로 연결되었습니다. 타겟 계좌: '5005775101'\n",
      "[INFO] 2021-11-09 20:18:34 - re-balancing/executor.py/refresh_price, 186: 종목 리스트가 최신화되었습니다: 150\n",
      "[INFO] 2021-11-09 20:18:34 - re-balancing/executor.py/refresh_price, 186: 종목 리스트가 최신화되었습니다: 150\n",
      "[INFO] 2021-11-09 20:18:34 - re-balancing/executor.py/refresh_price, 189: 종목 History를 최신화합니다.\n",
      "[INFO] 2021-11-09 20:18:34 - re-balancing/executor.py/refresh_price, 189: 종목 History를 최신화합니다.\n",
      "[INFO] 2021-11-09 20:18:54 - re-balancing/executor.py/refresh_price, 213: 종목 History가 최신화되었습니다.\n",
      "[INFO] 2021-11-09 20:18:54 - re-balancing/executor.py/refresh_price, 213: 종목 History가 최신화되었습니다.\n"
     ]
    }
   ],
   "source": [
    "report.refresh_price()"
   ]
  },
  {
   "cell_type": "markdown",
   "id": "9f62274f",
   "metadata": {},
   "source": [
    "### 리밸런싱 계획 생성"
   ]
  },
  {
   "cell_type": "code",
   "execution_count": 5,
   "id": "4747151e",
   "metadata": {
    "scrolled": true
   },
   "outputs": [
    {
     "name": "stderr",
     "output_type": "stream",
     "text": [
      "[INFO] 2021-11-09 20:18:55 - re-balancing/executor.py/planning_re_balancing, 274:                   deposit      9,708,682 KRW (총 예수금)\n",
      "[INFO] 2021-11-09 20:18:55 - re-balancing/executor.py/planning_re_balancing, 274:                   deposit      9,708,682 KRW (총 예수금)\n",
      "[INFO] 2021-11-09 20:18:55 - re-balancing/executor.py/planning_re_balancing, 277:              total_amount      9,708,682 KRW (총 예수금 + 포트폴리오 포함 & 매수된 종목들의 평가 금액 전체 합)\n",
      "[INFO] 2021-11-09 20:18:55 - re-balancing/executor.py/planning_re_balancing, 277:              total_amount      9,708,682 KRW (총 예수금 + 포트폴리오 포함 & 매수된 종목들의 평가 금액 전체 합)\n",
      "[INFO] 2021-11-09 20:18:55 - re-balancing/executor.py/planning_re_balancing, 285:    available_total_amount      8,737,813 KRW (전체 금액 중 사용할 금액)\n",
      "[INFO] 2021-11-09 20:18:55 - re-balancing/executor.py/planning_re_balancing, 285:    available_total_amount      8,737,813 KRW (전체 금액 중 사용할 금액)\n",
      "[INFO] 2021-11-09 20:18:55 - re-balancing/executor.py/planning_re_balancing, 290:             planned_budge      4,368,906 KRW (투자에 사용할 금액)\n",
      "[INFO] 2021-11-09 20:18:55 - re-balancing/executor.py/planning_re_balancing, 290:             planned_budge      4,368,906 KRW (투자에 사용할 금액)\n",
      "[INFO] 2021-11-09 20:18:55 - re-balancing/executor.py/planning_re_balancing, 333:         asis_total_amount              0 KRW (리밸런싱 전 전체 금액)\n",
      "[INFO] 2021-11-09 20:18:55 - re-balancing/executor.py/planning_re_balancing, 333:         asis_total_amount              0 KRW (리밸런싱 전 전체 금액)\n",
      "[INFO] 2021-11-09 20:18:55 - re-balancing/executor.py/planning_re_balancing, 335:         tobe_total_amount      4,856,500 KRW (리밸런싱 후 전체 금액)\n",
      "[INFO] 2021-11-09 20:18:55 - re-balancing/executor.py/planning_re_balancing, 335:         tobe_total_amount      4,856,500 KRW (리밸런싱 후 전체 금액)\n",
      "[INFO] 2021-11-09 20:18:55 - re-balancing/executor.py/planning_re_balancing, 337:              리밸런싱 후 감소 금액:        -487,594 KRW \n",
      "[INFO] 2021-11-09 20:18:55 - re-balancing/executor.py/planning_re_balancing, 337:              리밸런싱 후 감소 금액:        -487,594 KRW \n",
      "[INFO] 2021-11-09 20:18:55 - re-balancing/executor.py/_print_log_save, 219: Rebalance Result: \n",
      "                   deposit  total_amount  available_total_amount  planned_budge  asis_total_amount  tobe_total_amount\n",
      "결과생성일자                                                                                                               \n",
      "20211109_20_18_10  9708682       9708682               8737813.8      4368906.9                  0            4856500\n",
      "[INFO] 2021-11-09 20:18:55 - re-balancing/executor.py/_print_log_save, 219: Rebalance Result: \n",
      "                   deposit  total_amount  available_total_amount  planned_budge  asis_total_amount  tobe_total_amount\n",
      "결과생성일자                                                                                                               \n",
      "20211109_20_18_10  9708682       9708682               8737813.8      4368906.9                  0            4856500\n"
     ]
    },
    {
     "data": {
      "text/markdown": [
       "### Rebalance Result"
      ],
      "text/plain": [
       "<IPython.core.display.Markdown object>"
      ]
     },
     "metadata": {},
     "output_type": "display_data"
    },
    {
     "data": {
      "text/html": [
       "<div>\n",
       "<style scoped>\n",
       "    .dataframe tbody tr th:only-of-type {\n",
       "        vertical-align: middle;\n",
       "    }\n",
       "\n",
       "    .dataframe tbody tr th {\n",
       "        vertical-align: top;\n",
       "    }\n",
       "\n",
       "    .dataframe thead th {\n",
       "        text-align: right;\n",
       "    }\n",
       "</style>\n",
       "<table border=\"1\" class=\"dataframe\">\n",
       "  <thead>\n",
       "    <tr style=\"text-align: right;\">\n",
       "      <th></th>\n",
       "      <th>deposit</th>\n",
       "      <th>total_amount</th>\n",
       "      <th>available_total_amount</th>\n",
       "      <th>planned_budge</th>\n",
       "      <th>asis_total_amount</th>\n",
       "      <th>tobe_total_amount</th>\n",
       "    </tr>\n",
       "    <tr>\n",
       "      <th>결과생성일자</th>\n",
       "      <th></th>\n",
       "      <th></th>\n",
       "      <th></th>\n",
       "      <th></th>\n",
       "      <th></th>\n",
       "      <th></th>\n",
       "    </tr>\n",
       "  </thead>\n",
       "  <tbody>\n",
       "    <tr>\n",
       "      <th>20211109_20_18_10</th>\n",
       "      <td>9708682</td>\n",
       "      <td>9708682</td>\n",
       "      <td>8737813.8</td>\n",
       "      <td>4368906.9</td>\n",
       "      <td>0</td>\n",
       "      <td>4856500</td>\n",
       "    </tr>\n",
       "  </tbody>\n",
       "</table>\n",
       "</div>"
      ],
      "text/plain": [
       "                   deposit  total_amount  available_total_amount  \\\n",
       "결과생성일자                                                             \n",
       "20211109_20_18_10  9708682       9708682               8737813.8   \n",
       "\n",
       "                   planned_budge  asis_total_amount  tobe_total_amount  \n",
       "결과생성일자                                                                  \n",
       "20211109_20_18_10      4368906.9                  0            4856500  "
      ]
     },
     "metadata": {},
     "output_type": "display_data"
    },
    {
     "name": "stderr",
     "output_type": "stream",
     "text": [
      "[INFO] 2021-11-09 20:18:55 - re-balancing/executor.py/_print_log_save, 219: Rebalance Detail: \n",
      "             product_name  current       weight  quote_unit  asis_count  asis_amount  planned_rate  planned_amount  tobe_count  tobe_amount  difference\n",
      "product_code                                                                                                                                           \n",
      "000660             SK하이닉스   109000  94593.56352         500           0            0      0.275351         1202983          11      1199000          11\n",
      "051910               LG화학   769000  56583.88224        1000           0            0      0.164709          719599           1       769000           1\n",
      "035420              NAVER   417500  55606.95563         500           0            0      0.161866          707175           2       835000           2\n",
      "005380                현대차   213000  42013.34784         500           0            0      0.122296          534300           3       639000           3\n",
      "068270               셀트리온   205500  40291.55007         500           0            0      0.117284          512403           2       411000           2\n",
      "035720                카카오   125500  29471.30717         500           0            0      0.085788          374798           3       376500           3\n",
      "036570              엔씨소프트   627000  24977.21247        1000           0            0      0.072706          317645           1       627000           1\n",
      "[INFO] 2021-11-09 20:18:55 - re-balancing/executor.py/_print_log_save, 219: Rebalance Detail: \n",
      "             product_name  current       weight  quote_unit  asis_count  asis_amount  planned_rate  planned_amount  tobe_count  tobe_amount  difference\n",
      "product_code                                                                                                                                           \n",
      "000660             SK하이닉스   109000  94593.56352         500           0            0      0.275351         1202983          11      1199000          11\n",
      "051910               LG화학   769000  56583.88224        1000           0            0      0.164709          719599           1       769000           1\n",
      "035420              NAVER   417500  55606.95563         500           0            0      0.161866          707175           2       835000           2\n",
      "005380                현대차   213000  42013.34784         500           0            0      0.122296          534300           3       639000           3\n",
      "068270               셀트리온   205500  40291.55007         500           0            0      0.117284          512403           2       411000           2\n",
      "035720                카카오   125500  29471.30717         500           0            0      0.085788          374798           3       376500           3\n",
      "036570              엔씨소프트   627000  24977.21247        1000           0            0      0.072706          317645           1       627000           1\n"
     ]
    },
    {
     "name": "stdout",
     "output_type": "stream",
     "text": [
      "# 'Rebalance Result' Successfully saved in 'C:\\Users\\youngha\\PycharmProjects\\rebalancing\\reports\\youngha.park\\domestic_20211109_20_18_10\\result.csv'\n"
     ]
    },
    {
     "data": {
      "text/markdown": [
       "### Rebalance Detail"
      ],
      "text/plain": [
       "<IPython.core.display.Markdown object>"
      ]
     },
     "metadata": {},
     "output_type": "display_data"
    },
    {
     "data": {
      "text/html": [
       "<div>\n",
       "<style scoped>\n",
       "    .dataframe tbody tr th:only-of-type {\n",
       "        vertical-align: middle;\n",
       "    }\n",
       "\n",
       "    .dataframe tbody tr th {\n",
       "        vertical-align: top;\n",
       "    }\n",
       "\n",
       "    .dataframe thead th {\n",
       "        text-align: right;\n",
       "    }\n",
       "</style>\n",
       "<table border=\"1\" class=\"dataframe\">\n",
       "  <thead>\n",
       "    <tr style=\"text-align: right;\">\n",
       "      <th></th>\n",
       "      <th>product_name</th>\n",
       "      <th>current</th>\n",
       "      <th>weight</th>\n",
       "      <th>quote_unit</th>\n",
       "      <th>asis_count</th>\n",
       "      <th>asis_amount</th>\n",
       "      <th>planned_rate</th>\n",
       "      <th>planned_amount</th>\n",
       "      <th>tobe_count</th>\n",
       "      <th>tobe_amount</th>\n",
       "      <th>difference</th>\n",
       "    </tr>\n",
       "    <tr>\n",
       "      <th>product_code</th>\n",
       "      <th></th>\n",
       "      <th></th>\n",
       "      <th></th>\n",
       "      <th></th>\n",
       "      <th></th>\n",
       "      <th></th>\n",
       "      <th></th>\n",
       "      <th></th>\n",
       "      <th></th>\n",
       "      <th></th>\n",
       "      <th></th>\n",
       "    </tr>\n",
       "  </thead>\n",
       "  <tbody>\n",
       "    <tr>\n",
       "      <th>000660</th>\n",
       "      <td>SK하이닉스</td>\n",
       "      <td>109000</td>\n",
       "      <td>94593.56352</td>\n",
       "      <td>500</td>\n",
       "      <td>0</td>\n",
       "      <td>0</td>\n",
       "      <td>0.275351</td>\n",
       "      <td>1202983</td>\n",
       "      <td>11</td>\n",
       "      <td>1199000</td>\n",
       "      <td>11</td>\n",
       "    </tr>\n",
       "    <tr>\n",
       "      <th>051910</th>\n",
       "      <td>LG화학</td>\n",
       "      <td>769000</td>\n",
       "      <td>56583.88224</td>\n",
       "      <td>1000</td>\n",
       "      <td>0</td>\n",
       "      <td>0</td>\n",
       "      <td>0.164709</td>\n",
       "      <td>719599</td>\n",
       "      <td>1</td>\n",
       "      <td>769000</td>\n",
       "      <td>1</td>\n",
       "    </tr>\n",
       "    <tr>\n",
       "      <th>035420</th>\n",
       "      <td>NAVER</td>\n",
       "      <td>417500</td>\n",
       "      <td>55606.95563</td>\n",
       "      <td>500</td>\n",
       "      <td>0</td>\n",
       "      <td>0</td>\n",
       "      <td>0.161866</td>\n",
       "      <td>707175</td>\n",
       "      <td>2</td>\n",
       "      <td>835000</td>\n",
       "      <td>2</td>\n",
       "    </tr>\n",
       "    <tr>\n",
       "      <th>005380</th>\n",
       "      <td>현대차</td>\n",
       "      <td>213000</td>\n",
       "      <td>42013.34784</td>\n",
       "      <td>500</td>\n",
       "      <td>0</td>\n",
       "      <td>0</td>\n",
       "      <td>0.122296</td>\n",
       "      <td>534300</td>\n",
       "      <td>3</td>\n",
       "      <td>639000</td>\n",
       "      <td>3</td>\n",
       "    </tr>\n",
       "    <tr>\n",
       "      <th>068270</th>\n",
       "      <td>셀트리온</td>\n",
       "      <td>205500</td>\n",
       "      <td>40291.55007</td>\n",
       "      <td>500</td>\n",
       "      <td>0</td>\n",
       "      <td>0</td>\n",
       "      <td>0.117284</td>\n",
       "      <td>512403</td>\n",
       "      <td>2</td>\n",
       "      <td>411000</td>\n",
       "      <td>2</td>\n",
       "    </tr>\n",
       "    <tr>\n",
       "      <th>035720</th>\n",
       "      <td>카카오</td>\n",
       "      <td>125500</td>\n",
       "      <td>29471.30717</td>\n",
       "      <td>500</td>\n",
       "      <td>0</td>\n",
       "      <td>0</td>\n",
       "      <td>0.085788</td>\n",
       "      <td>374798</td>\n",
       "      <td>3</td>\n",
       "      <td>376500</td>\n",
       "      <td>3</td>\n",
       "    </tr>\n",
       "    <tr>\n",
       "      <th>036570</th>\n",
       "      <td>엔씨소프트</td>\n",
       "      <td>627000</td>\n",
       "      <td>24977.21247</td>\n",
       "      <td>1000</td>\n",
       "      <td>0</td>\n",
       "      <td>0</td>\n",
       "      <td>0.072706</td>\n",
       "      <td>317645</td>\n",
       "      <td>1</td>\n",
       "      <td>627000</td>\n",
       "      <td>1</td>\n",
       "    </tr>\n",
       "  </tbody>\n",
       "</table>\n",
       "</div>"
      ],
      "text/plain": [
       "             product_name  current       weight  quote_unit  asis_count  \\\n",
       "product_code                                                              \n",
       "000660             SK하이닉스   109000  94593.56352         500           0   \n",
       "051910               LG화학   769000  56583.88224        1000           0   \n",
       "035420              NAVER   417500  55606.95563         500           0   \n",
       "005380                현대차   213000  42013.34784         500           0   \n",
       "068270               셀트리온   205500  40291.55007         500           0   \n",
       "035720                카카오   125500  29471.30717         500           0   \n",
       "036570              엔씨소프트   627000  24977.21247        1000           0   \n",
       "\n",
       "              asis_amount  planned_rate  planned_amount  tobe_count  \\\n",
       "product_code                                                          \n",
       "000660                  0      0.275351         1202983          11   \n",
       "051910                  0      0.164709          719599           1   \n",
       "035420                  0      0.161866          707175           2   \n",
       "005380                  0      0.122296          534300           3   \n",
       "068270                  0      0.117284          512403           2   \n",
       "035720                  0      0.085788          374798           3   \n",
       "036570                  0      0.072706          317645           1   \n",
       "\n",
       "              tobe_amount  difference  \n",
       "product_code                           \n",
       "000660            1199000          11  \n",
       "051910             769000           1  \n",
       "035420             835000           2  \n",
       "005380             639000           3  \n",
       "068270             411000           2  \n",
       "035720             376500           3  \n",
       "036570             627000           1  "
      ]
     },
     "metadata": {},
     "output_type": "display_data"
    },
    {
     "name": "stdout",
     "output_type": "stream",
     "text": [
      "# 'Rebalance Detail' Successfully saved in 'C:\\Users\\youngha\\PycharmProjects\\rebalancing\\reports\\youngha.park\\domestic_20211109_20_18_10\\detail.csv'\n"
     ]
    }
   ],
   "source": [
    "report.planning_re_balancing()"
   ]
  },
  {
   "cell_type": "code",
   "execution_count": 6,
   "id": "21e21077",
   "metadata": {},
   "outputs": [],
   "source": [
    "report.re_balance()"
   ]
  },
  {
   "cell_type": "markdown",
   "id": "ea91b4f6",
   "metadata": {},
   "source": [
    "### Overseas: 해외(미국) 실행"
   ]
  },
  {
   "cell_type": "code",
   "execution_count": 3,
   "id": "4d5e850e",
   "metadata": {},
   "outputs": [
    {
     "data": {
      "text/markdown": [
       "##### 리밸런싱 생성시 결과 및 로그를 저장할 폴더명을 정합니다."
      ],
      "text/plain": [
       "<IPython.core.display.Markdown object>"
      ]
     },
     "metadata": {},
     "output_type": "display_data"
    },
    {
     "name": "stdout",
     "output_type": "stream",
     "text": [
      "입력하지 않을 경우 계좌명으로 설정됩니다\n",
      "report_name = youngha.park\n"
     ]
    },
    {
     "data": {
      "text/markdown": [
       "##### 다음 경로에 report가 저장됩니다. \n",
       "C:\\Users\\youngha\\PycharmProjects\\rebalancing\\reports\\youngha.park\\overseas_20211109_20_26_30"
      ],
      "text/plain": [
       "<IPython.core.display.Markdown object>"
      ]
     },
     "metadata": {},
     "output_type": "display_data"
    }
   ],
   "source": [
    "report = Report('overseas', test=True)"
   ]
  },
  {
   "cell_type": "markdown",
   "id": "7016b20b",
   "metadata": {},
   "source": [
    "### refresh_price: 종목평가금액 최신화(해외)"
   ]
  },
  {
   "cell_type": "code",
   "execution_count": 8,
   "id": "c5d54361",
   "metadata": {},
   "outputs": [
    {
     "name": "stderr",
     "output_type": "stream",
     "text": [
      "[INFO] 2021-11-09 20:19:22 - re-balancing/executor.py/refresh_price, 166: 종목 리스트를 최신화합니다.\n",
      "[INFO] 2021-11-09 20:19:22 - re-balancing/executor.py/refresh_price, 166: 종목 리스트를 최신화합니다.\n",
      "[INFO] 2021-11-09 20:19:22 - re-balancing/executor.py/refresh_price, 166: 종목 리스트를 최신화합니다.\n",
      "[INFO] 2021-11-09 20:19:22 - re-balancing/api.py/__init__, 72: 계좌가 존재하는 지 확인합니다.: '5005775101'\n",
      "[INFO] 2021-11-09 20:19:22 - re-balancing/api.py/__init__, 72: 계좌가 존재하는 지 확인합니다.: '5005775101'\n",
      "[INFO] 2021-11-09 20:19:22 - re-balancing/api.py/__init__, 72: 계좌가 존재하는 지 확인합니다.: '5005775101'\n",
      "[INFO] 2021-11-09 20:19:22 - re-balancing/api.py/__init__, 78: 모의투자에 성공적으로 연결되었습니다. 타겟 계좌: '5005775101'\n",
      "[INFO] 2021-11-09 20:19:22 - re-balancing/api.py/__init__, 78: 모의투자에 성공적으로 연결되었습니다. 타겟 계좌: '5005775101'\n",
      "[INFO] 2021-11-09 20:19:22 - re-balancing/api.py/__init__, 78: 모의투자에 성공적으로 연결되었습니다. 타겟 계좌: '5005775101'\n",
      "[INFO] 2021-11-09 20:19:26 - re-balancing/executor.py/refresh_price, 186: 종목 리스트가 최신화되었습니다: 28\n",
      "[INFO] 2021-11-09 20:19:26 - re-balancing/executor.py/refresh_price, 186: 종목 리스트가 최신화되었습니다: 28\n",
      "[INFO] 2021-11-09 20:19:26 - re-balancing/executor.py/refresh_price, 186: 종목 리스트가 최신화되었습니다: 28\n",
      "[INFO] 2021-11-09 20:19:26 - re-balancing/executor.py/refresh_price, 189: 종목 History를 최신화합니다.\n",
      "[INFO] 2021-11-09 20:19:26 - re-balancing/executor.py/refresh_price, 189: 종목 History를 최신화합니다.\n",
      "[INFO] 2021-11-09 20:19:26 - re-balancing/executor.py/refresh_price, 189: 종목 History를 최신화합니다.\n",
      "[INFO] 2021-11-09 20:19:30 - re-balancing/executor.py/refresh_price, 213: 종목 History가 최신화되었습니다.\n",
      "[INFO] 2021-11-09 20:19:30 - re-balancing/executor.py/refresh_price, 213: 종목 History가 최신화되었습니다.\n",
      "[INFO] 2021-11-09 20:19:30 - re-balancing/executor.py/refresh_price, 213: 종목 History가 최신화되었습니다.\n"
     ]
    }
   ],
   "source": [
    "report.refresh_price()"
   ]
  },
  {
   "cell_type": "markdown",
   "id": "57043e7c",
   "metadata": {},
   "source": [
    "### 리밸런싱 계획 생성"
   ]
  },
  {
   "cell_type": "code",
   "execution_count": 4,
   "id": "ac384337",
   "metadata": {},
   "outputs": [
    {
     "name": "stderr",
     "output_type": "stream",
     "text": [
      "[INFO]2021-11-09 20:26:35 - pyefriend/helper.py/run_app, 29: Start APP\n",
      "[INFO] 2021-11-09 20:26:35 - re-balancing/api.py/__init__, 73: 계좌가 존재하는 지 확인합니다.: '5005775101'\n",
      "[INFO] 2021-11-09 20:26:35 - re-balancing/api.py/__init__, 73: 계좌가 존재하는 지 확인합니다.: '5005775101'\n",
      "[INFO] 2021-11-09 20:26:35 - re-balancing/api.py/__init__, 79: 모의투자에 성공적으로 연결되었습니다. 타겟 계좌: '5005775101'\n",
      "[INFO] 2021-11-09 20:26:35 - re-balancing/api.py/__init__, 79: 모의투자에 성공적으로 연결되었습니다. 타겟 계좌: '5005775101'\n",
      "[INFO] 2021-11-09 20:26:36 - re-balancing/executor.py/planning_re_balancing, 274:                   deposit      100,000.0 USD (총 예수금)\n",
      "[INFO] 2021-11-09 20:26:36 - re-balancing/executor.py/planning_re_balancing, 274:                   deposit      100,000.0 USD (총 예수금)\n",
      "[INFO] 2021-11-09 20:26:36 - re-balancing/executor.py/planning_re_balancing, 277:              total_amount      100,000.0 USD (총 예수금 + 포트폴리오 포함 & 매수된 종목들의 평가 금액 전체 합)\n",
      "[INFO] 2021-11-09 20:26:36 - re-balancing/executor.py/planning_re_balancing, 277:              total_amount      100,000.0 USD (총 예수금 + 포트폴리오 포함 & 매수된 종목들의 평가 금액 전체 합)\n",
      "[INFO] 2021-11-09 20:26:36 - re-balancing/executor.py/planning_re_balancing, 285:    available_total_amount         90,000 USD (전체 금액 중 사용할 금액)\n",
      "[INFO] 2021-11-09 20:26:36 - re-balancing/executor.py/planning_re_balancing, 285:    available_total_amount         90,000 USD (전체 금액 중 사용할 금액)\n",
      "[INFO] 2021-11-09 20:26:36 - re-balancing/executor.py/planning_re_balancing, 290:             planned_budge         45,000 USD (투자에 사용할 금액)\n",
      "[INFO] 2021-11-09 20:26:36 - re-balancing/executor.py/planning_re_balancing, 290:             planned_budge         45,000 USD (투자에 사용할 금액)\n",
      "[INFO] 2021-11-09 20:26:36 - re-balancing/executor.py/planning_re_balancing, 333:         asis_total_amount              0 USD (리밸런싱 전 전체 금액)\n",
      "[INFO] 2021-11-09 20:26:36 - re-balancing/executor.py/planning_re_balancing, 333:         asis_total_amount              0 USD (리밸런싱 전 전체 금액)\n",
      "[INFO] 2021-11-09 20:26:36 - re-balancing/executor.py/planning_re_balancing, 335:         tobe_total_amount46,901.729999999996 USD (리밸런싱 후 전체 금액)\n",
      "[INFO] 2021-11-09 20:26:36 - re-balancing/executor.py/planning_re_balancing, 335:         tobe_total_amount46,901.729999999996 USD (리밸런싱 후 전체 금액)\n",
      "[INFO] 2021-11-09 20:26:36 - re-balancing/executor.py/planning_re_balancing, 337:              리밸런싱 후 감소 금액: -1,901.729999999996 USD \n",
      "[INFO] 2021-11-09 20:26:36 - re-balancing/executor.py/planning_re_balancing, 337:              리밸런싱 후 감소 금액: -1,901.729999999996 USD \n",
      "[INFO] 2021-11-09 20:26:36 - re-balancing/executor.py/_print_log_save, 219: Rebalance Result: \n",
      "                    deposit  total_amount  available_total_amount  planned_budge  asis_total_amount  tobe_total_amount\n",
      "결과생성일자                                                                                                                \n",
      "20211109_20_26_30  100000.0      100000.0                 90000.0        45000.0                  0           46901.73\n",
      "[INFO] 2021-11-09 20:26:36 - re-balancing/executor.py/_print_log_save, 219: Rebalance Result: \n",
      "                    deposit  total_amount  available_total_amount  planned_budge  asis_total_amount  tobe_total_amount\n",
      "결과생성일자                                                                                                                \n",
      "20211109_20_26_30  100000.0      100000.0                 90000.0        45000.0                  0           46901.73\n"
     ]
    },
    {
     "data": {
      "text/markdown": [
       "### Rebalance Result"
      ],
      "text/plain": [
       "<IPython.core.display.Markdown object>"
      ]
     },
     "metadata": {},
     "output_type": "display_data"
    },
    {
     "data": {
      "text/html": [
       "<div>\n",
       "<style scoped>\n",
       "    .dataframe tbody tr th:only-of-type {\n",
       "        vertical-align: middle;\n",
       "    }\n",
       "\n",
       "    .dataframe tbody tr th {\n",
       "        vertical-align: top;\n",
       "    }\n",
       "\n",
       "    .dataframe thead th {\n",
       "        text-align: right;\n",
       "    }\n",
       "</style>\n",
       "<table border=\"1\" class=\"dataframe\">\n",
       "  <thead>\n",
       "    <tr style=\"text-align: right;\">\n",
       "      <th></th>\n",
       "      <th>deposit</th>\n",
       "      <th>total_amount</th>\n",
       "      <th>available_total_amount</th>\n",
       "      <th>planned_budge</th>\n",
       "      <th>asis_total_amount</th>\n",
       "      <th>tobe_total_amount</th>\n",
       "    </tr>\n",
       "    <tr>\n",
       "      <th>결과생성일자</th>\n",
       "      <th></th>\n",
       "      <th></th>\n",
       "      <th></th>\n",
       "      <th></th>\n",
       "      <th></th>\n",
       "      <th></th>\n",
       "    </tr>\n",
       "  </thead>\n",
       "  <tbody>\n",
       "    <tr>\n",
       "      <th>20211109_20_26_30</th>\n",
       "      <td>100000.0</td>\n",
       "      <td>100000.0</td>\n",
       "      <td>90000.0</td>\n",
       "      <td>45000.0</td>\n",
       "      <td>0</td>\n",
       "      <td>46901.73</td>\n",
       "    </tr>\n",
       "  </tbody>\n",
       "</table>\n",
       "</div>"
      ],
      "text/plain": [
       "                    deposit  total_amount  available_total_amount  \\\n",
       "결과생성일자                                                              \n",
       "20211109_20_26_30  100000.0      100000.0                 90000.0   \n",
       "\n",
       "                   planned_budge  asis_total_amount  tobe_total_amount  \n",
       "결과생성일자                                                                  \n",
       "20211109_20_26_30        45000.0                  0           46901.73  "
      ]
     },
     "metadata": {},
     "output_type": "display_data"
    },
    {
     "name": "stderr",
     "output_type": "stream",
     "text": [
      "[INFO] 2021-11-09 20:26:36 - re-balancing/executor.py/_print_log_save, 219: Rebalance Detail: \n",
      "                      product_name  current    weight  quote_unit  asis_count  asis_amount  planned_rate  planned_amount  tobe_count  tobe_amount  difference\n",
      "product_code                                                                                                                                                 \n",
      "AAPL                            애플   150.13  50237.39        0.01           0            0      0.355932    16016.949531         107     16063.91         107\n",
      "MSFT                       마이크로소프트   337.38  43004.50        0.01           0            0      0.304687    13710.921409          41     13832.58          41\n",
      "AMZN                        아마존 닷컴  3496.50  38917.92        0.01           0            0      0.275734    12408.016429           4     13986.00           4\n",
      "VOO           Vanguard S&P 500 ETF   431.32   8983.33        0.01           0            0      0.063647     2864.112631           7      3019.24           7\n",
      "[INFO] 2021-11-09 20:26:36 - re-balancing/executor.py/_print_log_save, 219: Rebalance Detail: \n",
      "                      product_name  current    weight  quote_unit  asis_count  asis_amount  planned_rate  planned_amount  tobe_count  tobe_amount  difference\n",
      "product_code                                                                                                                                                 \n",
      "AAPL                            애플   150.13  50237.39        0.01           0            0      0.355932    16016.949531         107     16063.91         107\n",
      "MSFT                       마이크로소프트   337.38  43004.50        0.01           0            0      0.304687    13710.921409          41     13832.58          41\n",
      "AMZN                        아마존 닷컴  3496.50  38917.92        0.01           0            0      0.275734    12408.016429           4     13986.00           4\n",
      "VOO           Vanguard S&P 500 ETF   431.32   8983.33        0.01           0            0      0.063647     2864.112631           7      3019.24           7\n"
     ]
    },
    {
     "name": "stdout",
     "output_type": "stream",
     "text": [
      "# 'Rebalance Result' Successfully saved in 'C:\\Users\\youngha\\PycharmProjects\\rebalancing\\reports\\youngha.park\\overseas_20211109_20_26_30\\result.csv'\n"
     ]
    },
    {
     "data": {
      "text/markdown": [
       "### Rebalance Detail"
      ],
      "text/plain": [
       "<IPython.core.display.Markdown object>"
      ]
     },
     "metadata": {},
     "output_type": "display_data"
    },
    {
     "data": {
      "text/html": [
       "<div>\n",
       "<style scoped>\n",
       "    .dataframe tbody tr th:only-of-type {\n",
       "        vertical-align: middle;\n",
       "    }\n",
       "\n",
       "    .dataframe tbody tr th {\n",
       "        vertical-align: top;\n",
       "    }\n",
       "\n",
       "    .dataframe thead th {\n",
       "        text-align: right;\n",
       "    }\n",
       "</style>\n",
       "<table border=\"1\" class=\"dataframe\">\n",
       "  <thead>\n",
       "    <tr style=\"text-align: right;\">\n",
       "      <th></th>\n",
       "      <th>product_name</th>\n",
       "      <th>current</th>\n",
       "      <th>weight</th>\n",
       "      <th>quote_unit</th>\n",
       "      <th>asis_count</th>\n",
       "      <th>asis_amount</th>\n",
       "      <th>planned_rate</th>\n",
       "      <th>planned_amount</th>\n",
       "      <th>tobe_count</th>\n",
       "      <th>tobe_amount</th>\n",
       "      <th>difference</th>\n",
       "    </tr>\n",
       "    <tr>\n",
       "      <th>product_code</th>\n",
       "      <th></th>\n",
       "      <th></th>\n",
       "      <th></th>\n",
       "      <th></th>\n",
       "      <th></th>\n",
       "      <th></th>\n",
       "      <th></th>\n",
       "      <th></th>\n",
       "      <th></th>\n",
       "      <th></th>\n",
       "      <th></th>\n",
       "    </tr>\n",
       "  </thead>\n",
       "  <tbody>\n",
       "    <tr>\n",
       "      <th>AAPL</th>\n",
       "      <td>애플</td>\n",
       "      <td>150.13</td>\n",
       "      <td>50237.39</td>\n",
       "      <td>0.01</td>\n",
       "      <td>0</td>\n",
       "      <td>0</td>\n",
       "      <td>0.355932</td>\n",
       "      <td>16016.949531</td>\n",
       "      <td>107</td>\n",
       "      <td>16063.91</td>\n",
       "      <td>107</td>\n",
       "    </tr>\n",
       "    <tr>\n",
       "      <th>MSFT</th>\n",
       "      <td>마이크로소프트</td>\n",
       "      <td>337.38</td>\n",
       "      <td>43004.50</td>\n",
       "      <td>0.01</td>\n",
       "      <td>0</td>\n",
       "      <td>0</td>\n",
       "      <td>0.304687</td>\n",
       "      <td>13710.921409</td>\n",
       "      <td>41</td>\n",
       "      <td>13832.58</td>\n",
       "      <td>41</td>\n",
       "    </tr>\n",
       "    <tr>\n",
       "      <th>AMZN</th>\n",
       "      <td>아마존 닷컴</td>\n",
       "      <td>3496.50</td>\n",
       "      <td>38917.92</td>\n",
       "      <td>0.01</td>\n",
       "      <td>0</td>\n",
       "      <td>0</td>\n",
       "      <td>0.275734</td>\n",
       "      <td>12408.016429</td>\n",
       "      <td>4</td>\n",
       "      <td>13986.00</td>\n",
       "      <td>4</td>\n",
       "    </tr>\n",
       "    <tr>\n",
       "      <th>VOO</th>\n",
       "      <td>Vanguard S&amp;P 500 ETF</td>\n",
       "      <td>431.32</td>\n",
       "      <td>8983.33</td>\n",
       "      <td>0.01</td>\n",
       "      <td>0</td>\n",
       "      <td>0</td>\n",
       "      <td>0.063647</td>\n",
       "      <td>2864.112631</td>\n",
       "      <td>7</td>\n",
       "      <td>3019.24</td>\n",
       "      <td>7</td>\n",
       "    </tr>\n",
       "  </tbody>\n",
       "</table>\n",
       "</div>"
      ],
      "text/plain": [
       "                      product_name  current    weight  quote_unit  asis_count  \\\n",
       "product_code                                                                    \n",
       "AAPL                            애플   150.13  50237.39        0.01           0   \n",
       "MSFT                       마이크로소프트   337.38  43004.50        0.01           0   \n",
       "AMZN                        아마존 닷컴  3496.50  38917.92        0.01           0   \n",
       "VOO           Vanguard S&P 500 ETF   431.32   8983.33        0.01           0   \n",
       "\n",
       "              asis_amount  planned_rate  planned_amount  tobe_count  \\\n",
       "product_code                                                          \n",
       "AAPL                    0      0.355932    16016.949531         107   \n",
       "MSFT                    0      0.304687    13710.921409          41   \n",
       "AMZN                    0      0.275734    12408.016429           4   \n",
       "VOO                     0      0.063647     2864.112631           7   \n",
       "\n",
       "              tobe_amount  difference  \n",
       "product_code                           \n",
       "AAPL             16063.91         107  \n",
       "MSFT             13832.58          41  \n",
       "AMZN             13986.00           4  \n",
       "VOO               3019.24           7  "
      ]
     },
     "metadata": {},
     "output_type": "display_data"
    },
    {
     "name": "stderr",
     "output_type": "stream",
     "text": [
      "[INFO] 2021-11-09 20:26:36 - re-balancing/executor.py/_print_log_save, 219: Rebalance Result(WON): \n",
      "                     deposit  total_amount  available_total_amount  planned_budge  asis_total_amount  tobe_total_amount\n",
      "결과생성일자                                                                                                                 \n",
      "20211109_20_26_30  117600000     117600000               105840000       52920000                  0           55156434\n"
     ]
    },
    {
     "name": "stdout",
     "output_type": "stream",
     "text": [
      "# 'Rebalance Detail' Successfully saved in 'C:\\Users\\youngha\\PycharmProjects\\rebalancing\\reports\\youngha.park\\overseas_20211109_20_26_30\\detail.csv'\n"
     ]
    },
    {
     "name": "stderr",
     "output_type": "stream",
     "text": [
      "[INFO] 2021-11-09 20:26:36 - re-balancing/executor.py/_print_log_save, 219: Rebalance Result(WON): \n",
      "                     deposit  total_amount  available_total_amount  planned_budge  asis_total_amount  tobe_total_amount\n",
      "결과생성일자                                                                                                                 \n",
      "20211109_20_26_30  117600000     117600000               105840000       52920000                  0           55156434\n"
     ]
    },
    {
     "data": {
      "text/markdown": [
       "### Rebalance Result(WON)"
      ],
      "text/plain": [
       "<IPython.core.display.Markdown object>"
      ]
     },
     "metadata": {},
     "output_type": "display_data"
    },
    {
     "data": {
      "text/html": [
       "<div>\n",
       "<style scoped>\n",
       "    .dataframe tbody tr th:only-of-type {\n",
       "        vertical-align: middle;\n",
       "    }\n",
       "\n",
       "    .dataframe tbody tr th {\n",
       "        vertical-align: top;\n",
       "    }\n",
       "\n",
       "    .dataframe thead th {\n",
       "        text-align: right;\n",
       "    }\n",
       "</style>\n",
       "<table border=\"1\" class=\"dataframe\">\n",
       "  <thead>\n",
       "    <tr style=\"text-align: right;\">\n",
       "      <th></th>\n",
       "      <th>deposit</th>\n",
       "      <th>total_amount</th>\n",
       "      <th>available_total_amount</th>\n",
       "      <th>planned_budge</th>\n",
       "      <th>asis_total_amount</th>\n",
       "      <th>tobe_total_amount</th>\n",
       "    </tr>\n",
       "    <tr>\n",
       "      <th>결과생성일자</th>\n",
       "      <th></th>\n",
       "      <th></th>\n",
       "      <th></th>\n",
       "      <th></th>\n",
       "      <th></th>\n",
       "      <th></th>\n",
       "    </tr>\n",
       "  </thead>\n",
       "  <tbody>\n",
       "    <tr>\n",
       "      <th>20211109_20_26_30</th>\n",
       "      <td>117600000</td>\n",
       "      <td>117600000</td>\n",
       "      <td>105840000</td>\n",
       "      <td>52920000</td>\n",
       "      <td>0</td>\n",
       "      <td>55156434</td>\n",
       "    </tr>\n",
       "  </tbody>\n",
       "</table>\n",
       "</div>"
      ],
      "text/plain": [
       "                     deposit  total_amount  available_total_amount  \\\n",
       "결과생성일자                                                               \n",
       "20211109_20_26_30  117600000     117600000               105840000   \n",
       "\n",
       "                   planned_budge  asis_total_amount  tobe_total_amount  \n",
       "결과생성일자                                                                  \n",
       "20211109_20_26_30       52920000                  0           55156434  "
      ]
     },
     "metadata": {},
     "output_type": "display_data"
    },
    {
     "name": "stdout",
     "output_type": "stream",
     "text": [
      "# 'Rebalance Result(WON)' Successfully saved in 'C:\\Users\\youngha\\PycharmProjects\\rebalancing\\reports\\youngha.park\\overseas_20211109_20_26_30\\result_won.csv'\n"
     ]
    },
    {
     "name": "stderr",
     "output_type": "stream",
     "text": [
      "[INFO] 2021-11-09 20:26:36 - re-balancing/executor.py/_print_log_save, 219: Rebalance Detail(WON): \n",
      "                product_name  current    weight  quote_unit  asis_count  asis_amount  planned_rate  planned_amount  tobe_count  tobe_amount  difference\n",
      "결과생성일자                                                                                                                                                 \n",
      "AAPL                      애플   176552  50237.39        0.01           0            0      0.355932        18835932         107     18891158         107\n",
      "MSFT                 마이크로소프트   396758  43004.50        0.01           0            0      0.304687        16124043          41     16267114          41\n",
      "AMZN                  아마존 닷컴  4111884  38917.92        0.01           0            0      0.275734        14591827           4     16447536           4\n",
      "VOO     Vanguard S&P 500 ETF   507232   8983.33        0.01           0            0      0.063647         3368196           7      3550626           7\n",
      "[INFO] 2021-11-09 20:26:36 - re-balancing/executor.py/_print_log_save, 219: Rebalance Detail(WON): \n",
      "                product_name  current    weight  quote_unit  asis_count  asis_amount  planned_rate  planned_amount  tobe_count  tobe_amount  difference\n",
      "결과생성일자                                                                                                                                                 \n",
      "AAPL                      애플   176552  50237.39        0.01           0            0      0.355932        18835932         107     18891158         107\n",
      "MSFT                 마이크로소프트   396758  43004.50        0.01           0            0      0.304687        16124043          41     16267114          41\n",
      "AMZN                  아마존 닷컴  4111884  38917.92        0.01           0            0      0.275734        14591827           4     16447536           4\n",
      "VOO     Vanguard S&P 500 ETF   507232   8983.33        0.01           0            0      0.063647         3368196           7      3550626           7\n"
     ]
    },
    {
     "data": {
      "text/markdown": [
       "### Rebalance Detail(WON)"
      ],
      "text/plain": [
       "<IPython.core.display.Markdown object>"
      ]
     },
     "metadata": {},
     "output_type": "display_data"
    },
    {
     "data": {
      "text/html": [
       "<div>\n",
       "<style scoped>\n",
       "    .dataframe tbody tr th:only-of-type {\n",
       "        vertical-align: middle;\n",
       "    }\n",
       "\n",
       "    .dataframe tbody tr th {\n",
       "        vertical-align: top;\n",
       "    }\n",
       "\n",
       "    .dataframe thead th {\n",
       "        text-align: right;\n",
       "    }\n",
       "</style>\n",
       "<table border=\"1\" class=\"dataframe\">\n",
       "  <thead>\n",
       "    <tr style=\"text-align: right;\">\n",
       "      <th></th>\n",
       "      <th>product_name</th>\n",
       "      <th>current</th>\n",
       "      <th>weight</th>\n",
       "      <th>quote_unit</th>\n",
       "      <th>asis_count</th>\n",
       "      <th>asis_amount</th>\n",
       "      <th>planned_rate</th>\n",
       "      <th>planned_amount</th>\n",
       "      <th>tobe_count</th>\n",
       "      <th>tobe_amount</th>\n",
       "      <th>difference</th>\n",
       "    </tr>\n",
       "    <tr>\n",
       "      <th>결과생성일자</th>\n",
       "      <th></th>\n",
       "      <th></th>\n",
       "      <th></th>\n",
       "      <th></th>\n",
       "      <th></th>\n",
       "      <th></th>\n",
       "      <th></th>\n",
       "      <th></th>\n",
       "      <th></th>\n",
       "      <th></th>\n",
       "      <th></th>\n",
       "    </tr>\n",
       "  </thead>\n",
       "  <tbody>\n",
       "    <tr>\n",
       "      <th>AAPL</th>\n",
       "      <td>애플</td>\n",
       "      <td>176552</td>\n",
       "      <td>50237.39</td>\n",
       "      <td>0.01</td>\n",
       "      <td>0</td>\n",
       "      <td>0</td>\n",
       "      <td>0.355932</td>\n",
       "      <td>18835932</td>\n",
       "      <td>107</td>\n",
       "      <td>18891158</td>\n",
       "      <td>107</td>\n",
       "    </tr>\n",
       "    <tr>\n",
       "      <th>MSFT</th>\n",
       "      <td>마이크로소프트</td>\n",
       "      <td>396758</td>\n",
       "      <td>43004.50</td>\n",
       "      <td>0.01</td>\n",
       "      <td>0</td>\n",
       "      <td>0</td>\n",
       "      <td>0.304687</td>\n",
       "      <td>16124043</td>\n",
       "      <td>41</td>\n",
       "      <td>16267114</td>\n",
       "      <td>41</td>\n",
       "    </tr>\n",
       "    <tr>\n",
       "      <th>AMZN</th>\n",
       "      <td>아마존 닷컴</td>\n",
       "      <td>4111884</td>\n",
       "      <td>38917.92</td>\n",
       "      <td>0.01</td>\n",
       "      <td>0</td>\n",
       "      <td>0</td>\n",
       "      <td>0.275734</td>\n",
       "      <td>14591827</td>\n",
       "      <td>4</td>\n",
       "      <td>16447536</td>\n",
       "      <td>4</td>\n",
       "    </tr>\n",
       "    <tr>\n",
       "      <th>VOO</th>\n",
       "      <td>Vanguard S&amp;P 500 ETF</td>\n",
       "      <td>507232</td>\n",
       "      <td>8983.33</td>\n",
       "      <td>0.01</td>\n",
       "      <td>0</td>\n",
       "      <td>0</td>\n",
       "      <td>0.063647</td>\n",
       "      <td>3368196</td>\n",
       "      <td>7</td>\n",
       "      <td>3550626</td>\n",
       "      <td>7</td>\n",
       "    </tr>\n",
       "  </tbody>\n",
       "</table>\n",
       "</div>"
      ],
      "text/plain": [
       "                product_name  current    weight  quote_unit  asis_count  \\\n",
       "결과생성일자                                                                    \n",
       "AAPL                      애플   176552  50237.39        0.01           0   \n",
       "MSFT                 마이크로소프트   396758  43004.50        0.01           0   \n",
       "AMZN                  아마존 닷컴  4111884  38917.92        0.01           0   \n",
       "VOO     Vanguard S&P 500 ETF   507232   8983.33        0.01           0   \n",
       "\n",
       "        asis_amount  planned_rate  planned_amount  tobe_count  tobe_amount  \\\n",
       "결과생성일자                                                                       \n",
       "AAPL              0      0.355932        18835932         107     18891158   \n",
       "MSFT              0      0.304687        16124043          41     16267114   \n",
       "AMZN              0      0.275734        14591827           4     16447536   \n",
       "VOO               0      0.063647         3368196           7      3550626   \n",
       "\n",
       "        difference  \n",
       "결과생성일자              \n",
       "AAPL           107  \n",
       "MSFT            41  \n",
       "AMZN             4  \n",
       "VOO              7  "
      ]
     },
     "metadata": {},
     "output_type": "display_data"
    },
    {
     "name": "stdout",
     "output_type": "stream",
     "text": [
      "# 'Rebalance Detail(WON)' Successfully saved in 'C:\\Users\\youngha\\PycharmProjects\\rebalancing\\reports\\youngha.park\\overseas_20211109_20_26_30\\detail_won.csv'\n"
     ]
    }
   ],
   "source": [
    "report.planning_re_balancing()"
   ]
  }
 ],
 "metadata": {
  "kernelspec": {
   "display_name": "Python 3 (ipykernel)",
   "language": "python",
   "name": "python3"
  },
  "language_info": {
   "codemirror_mode": {
    "name": "ipython",
    "version": 3
   },
   "file_extension": ".py",
   "mimetype": "text/x-python",
   "name": "python",
   "nbconvert_exporter": "python",
   "pygments_lexer": "ipython3",
   "version": "3.9.7"
  }
 },
 "nbformat": 4,
 "nbformat_minor": 5
}