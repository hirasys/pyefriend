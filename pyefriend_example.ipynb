{
 "cells": [
  {
   "cell_type": "markdown",
   "id": "63f4cbe3",
   "metadata": {},
   "source": [
    "# import library"
   ]
  },
  {
   "cell_type": "code",
   "execution_count": 1,
   "id": "8467bf95",
   "metadata": {},
   "outputs": [],
   "source": [
    "from pyefriend import load_api"
   ]
  },
  {
   "cell_type": "code",
   "execution_count": 2,
   "id": "4857b859",
   "metadata": {},
   "outputs": [],
   "source": [
    "import os\n",
    "\n",
    "os.environ['PYEFRIEND__LOG_LEVEL'] = 'DEBUG'"
   ]
  },
  {
   "cell_type": "markdown",
   "id": "d63e8d4e",
   "metadata": {},
   "source": [
    "# api 로드(High-level)\n",
    "\n",
    "- target: 국내 'domestic' / 해외 'overseas'\n",
    "- account: 사용할 계좌\n",
    "- password: 사용할 계좌 입력 비밀번호"
   ]
  },
  {
   "cell_type": "code",
   "execution_count": 3,
   "id": "c9e6add5",
   "metadata": {
    "scrolled": true
   },
   "outputs": [
    {
     "name": "stderr",
     "output_type": "stream",
     "text": [
      "[INFO]2021-11-09 20:10:32 - pyefriend/helper.py/run_app, 29: Start APP\n",
      "[INFO]2021-11-09 20:10:32 - pyefriend/api.py/__init__, 69: 계좌가 존재하는 지 확인합니다.: '5005775101'\n",
      "[INFO]2021-11-09 20:10:32 - pyefriend/api.py/__init__, 75: 모의투자에 성공적으로 연결되었습니다. 타겟 계좌: '5005775101'\n"
     ]
    }
   ],
   "source": [
    "api = load_api(target='domestic', account='5005775101', password='Dmazhffk1!!')"
   ]
  },
  {
   "cell_type": "markdown",
   "id": "e8ae3201",
   "metadata": {},
   "source": [
    "004170: 신세계 주식 종목코드"
   ]
  },
  {
   "cell_type": "code",
   "execution_count": 4,
   "id": "c217c0b1",
   "metadata": {},
   "outputs": [],
   "source": [
    "product_code = '004170'"
   ]
  },
  {
   "cell_type": "code",
   "execution_count": 6,
   "id": "52537002",
   "metadata": {},
   "outputs": [
    {
     "ename": "UnExpectedException",
     "evalue": "[40580000] 모의투자 장종료 입니다. ()",
     "output_type": "error",
     "traceback": [
      "\u001B[1;31m---------------------------------------------------------------------------\u001B[0m",
      "\u001B[1;31mUnExpectedException\u001B[0m                       Traceback (most recent call last)",
      "\u001B[1;32m~\\AppData\\Local\\Temp/ipykernel_12596/2028105353.py\u001B[0m in \u001B[0;36m<module>\u001B[1;34m\u001B[0m\n\u001B[1;32m----> 1\u001B[1;33m \u001B[0mapi\u001B[0m\u001B[1;33m.\u001B[0m\u001B[0mbuy_stock\u001B[0m\u001B[1;33m(\u001B[0m\u001B[0mproduct_code\u001B[0m\u001B[1;33m=\u001B[0m\u001B[0mproduct_code\u001B[0m\u001B[1;33m,\u001B[0m \u001B[0mcount\u001B[0m\u001B[1;33m=\u001B[0m\u001B[1;36m1\u001B[0m\u001B[1;33m)\u001B[0m\u001B[1;33m\u001B[0m\u001B[1;33m\u001B[0m\u001B[0m\n\u001B[0m",
      "\u001B[1;32m~\\PycharmProjects\\rebalancing\\pyefriend\\api.py\u001B[0m in \u001B[0;36mbuy_stock\u001B[1;34m(self, product_code, count, price, market_code)\u001B[0m\n\u001B[0;32m    360\u001B[0m     \u001B[1;32mdef\u001B[0m \u001B[0mbuy_stock\u001B[0m\u001B[1;33m(\u001B[0m\u001B[0mself\u001B[0m\u001B[1;33m,\u001B[0m \u001B[0mproduct_code\u001B[0m\u001B[1;33m:\u001B[0m \u001B[0mstr\u001B[0m\u001B[1;33m,\u001B[0m \u001B[0mcount\u001B[0m\u001B[1;33m:\u001B[0m \u001B[0mint\u001B[0m\u001B[1;33m,\u001B[0m \u001B[0mprice\u001B[0m\u001B[1;33m:\u001B[0m \u001B[0mint\u001B[0m \u001B[1;33m=\u001B[0m \u001B[1;36m0\u001B[0m\u001B[1;33m,\u001B[0m \u001B[0mmarket_code\u001B[0m\u001B[1;33m:\u001B[0m \u001B[0mstr\u001B[0m \u001B[1;33m=\u001B[0m \u001B[1;32mNone\u001B[0m\u001B[1;33m)\u001B[0m \u001B[1;33m->\u001B[0m \u001B[0mstr\u001B[0m\u001B[1;33m:\u001B[0m\u001B[1;33m\u001B[0m\u001B[1;33m\u001B[0m\u001B[0m\n\u001B[0;32m    361\u001B[0m         (\n\u001B[1;32m--> 362\u001B[1;33m             \u001B[0mself\u001B[0m\u001B[1;33m.\u001B[0m\u001B[0mset_account_info\u001B[0m\u001B[1;33m(\u001B[0m\u001B[1;33m)\u001B[0m  \u001B[1;31m# 계정 정보\u001B[0m\u001B[1;33m\u001B[0m\u001B[1;33m\u001B[0m\u001B[0m\n\u001B[0m\u001B[0;32m    363\u001B[0m                 \u001B[1;33m.\u001B[0m\u001B[0mset_data\u001B[0m\u001B[1;33m(\u001B[0m\u001B[1;36m3\u001B[0m\u001B[1;33m,\u001B[0m \u001B[0mproduct_code\u001B[0m\u001B[1;33m)\u001B[0m\u001B[1;33m\u001B[0m\u001B[1;33m\u001B[0m\u001B[0m\n\u001B[0;32m    364\u001B[0m                 \u001B[1;33m.\u001B[0m\u001B[0mset_data\u001B[0m\u001B[1;33m(\u001B[0m\u001B[1;36m4\u001B[0m\u001B[1;33m,\u001B[0m \u001B[1;34m'01'\u001B[0m \u001B[1;32mif\u001B[0m \u001B[0mprice\u001B[0m \u001B[1;33m<=\u001B[0m \u001B[1;36m0\u001B[0m \u001B[1;32melse\u001B[0m \u001B[1;34m'00'\u001B[0m\u001B[1;33m)\u001B[0m  \u001B[1;31m# 00: 지정가 / 01: 시장가\u001B[0m\u001B[1;33m\u001B[0m\u001B[1;33m\u001B[0m\u001B[0m\n",
      "\u001B[1;32m~\\PycharmProjects\\rebalancing\\pyefriend\\api.py\u001B[0m in \u001B[0;36mrequest_data\u001B[1;34m(self, service)\u001B[0m\n\u001B[0;32m    183\u001B[0m     \u001B[1;32mdef\u001B[0m \u001B[0mrequest_data\u001B[0m\u001B[1;33m(\u001B[0m\u001B[0mself\u001B[0m\u001B[1;33m,\u001B[0m \u001B[0mservice\u001B[0m\u001B[1;33m:\u001B[0m \u001B[0mstr\u001B[0m\u001B[1;33m)\u001B[0m\u001B[1;33m:\u001B[0m\u001B[1;33m\u001B[0m\u001B[1;33m\u001B[0m\u001B[0m\n\u001B[0;32m    184\u001B[0m         \u001B[1;34m\"\"\" Transaction 요청 \"\"\"\u001B[0m\u001B[1;33m\u001B[0m\u001B[1;33m\u001B[0m\u001B[0m\n\u001B[1;32m--> 185\u001B[1;33m         \u001B[0mself\u001B[0m\u001B[1;33m.\u001B[0m\u001B[0mconn\u001B[0m\u001B[1;33m.\u001B[0m\u001B[0mRequestData\u001B[0m\u001B[1;33m(\u001B[0m\u001B[0mservice\u001B[0m\u001B[1;33m=\u001B[0m\u001B[0mservice\u001B[0m\u001B[1;33m)\u001B[0m\u001B[1;33m\u001B[0m\u001B[1;33m\u001B[0m\u001B[0m\n\u001B[0m\u001B[0;32m    186\u001B[0m         \u001B[1;32mreturn\u001B[0m \u001B[0mself\u001B[0m\u001B[1;33m\u001B[0m\u001B[1;33m\u001B[0m\u001B[0m\n\u001B[0;32m    187\u001B[0m \u001B[1;33m\u001B[0m\u001B[0m\n",
      "\u001B[1;32m~\\PycharmProjects\\rebalancing\\pyefriend\\connection.py\u001B[0m in \u001B[0;36mRequestData\u001B[1;34m(self, service)\u001B[0m\n\u001B[0;32m    192\u001B[0m         \u001B[1;31m# clear and execute\u001B[0m\u001B[1;33m\u001B[0m\u001B[1;33m\u001B[0m\u001B[0m\n\u001B[0;32m    193\u001B[0m         return (\n\u001B[1;32m--> 194\u001B[1;33m             \u001B[0mself\u001B[0m\u001B[1;33m.\u001B[0m\u001B[0mclear_event_loop\u001B[0m\u001B[1;33m(\u001B[0m\u001B[1;33m)\u001B[0m\u001B[1;33m\u001B[0m\u001B[1;33m\u001B[0m\u001B[0m\n\u001B[0m\u001B[0;32m    195\u001B[0m                 \u001B[1;33m.\u001B[0m\u001B[0mexecute_event_loop\u001B[0m\u001B[1;33m(\u001B[0m\u001B[1;33m)\u001B[0m\u001B[1;33m\u001B[0m\u001B[1;33m\u001B[0m\u001B[0m\n\u001B[0;32m    196\u001B[0m         )\n",
      "\u001B[1;32m~\\PycharmProjects\\rebalancing\\pyefriend\\connection.py\u001B[0m in \u001B[0;36mexecute_event_loop\u001B[1;34m(self)\u001B[0m\n\u001B[0;32m     43\u001B[0m         \u001B[1;32mif\u001B[0m \u001B[0mself\u001B[0m\u001B[1;33m.\u001B[0m\u001B[0m_error\u001B[0m \u001B[1;32mis\u001B[0m \u001B[1;32mnot\u001B[0m \u001B[1;32mNone\u001B[0m\u001B[1;33m:\u001B[0m\u001B[1;33m\u001B[0m\u001B[1;33m\u001B[0m\u001B[0m\n\u001B[0;32m     44\u001B[0m             \u001B[1;31m# event loop 내에서 에러 생겼을 경우 error 받아옴\u001B[0m\u001B[1;33m\u001B[0m\u001B[1;33m\u001B[0m\u001B[0m\n\u001B[1;32m---> 45\u001B[1;33m             \u001B[1;32mraise\u001B[0m \u001B[0mself\u001B[0m\u001B[1;33m.\u001B[0m\u001B[0m_error\u001B[0m\u001B[1;33m\u001B[0m\u001B[1;33m\u001B[0m\u001B[0m\n\u001B[0m\u001B[0;32m     46\u001B[0m \u001B[1;33m\u001B[0m\u001B[0m\n\u001B[0;32m     47\u001B[0m         \u001B[0mself\u001B[0m\u001B[1;33m.\u001B[0m\u001B[0m_event_loop\u001B[0m \u001B[1;33m=\u001B[0m \u001B[0mQEventLoop\u001B[0m\u001B[1;33m(\u001B[0m\u001B[1;33m)\u001B[0m  \u001B[1;31m# 이벤트루프 할당\u001B[0m\u001B[1;33m\u001B[0m\u001B[1;33m\u001B[0m\u001B[0m\n",
      "\u001B[1;32m~\\PycharmProjects\\rebalancing\\pyefriend\\connection.py\u001B[0m in \u001B[0;36mdecorated_handler\u001B[1;34m()\u001B[0m\n\u001B[0;32m     55\u001B[0m         \u001B[1;32mdef\u001B[0m \u001B[0mdecorated_handler\u001B[0m\u001B[1;33m(\u001B[0m\u001B[1;33m)\u001B[0m\u001B[1;33m:\u001B[0m\u001B[1;33m\u001B[0m\u001B[1;33m\u001B[0m\u001B[0m\n\u001B[0;32m     56\u001B[0m             \u001B[1;32mtry\u001B[0m\u001B[1;33m:\u001B[0m\u001B[1;33m\u001B[0m\u001B[1;33m\u001B[0m\u001B[0m\n\u001B[1;32m---> 57\u001B[1;33m                 \u001B[0mhandler\u001B[0m\u001B[1;33m(\u001B[0m\u001B[1;33m)\u001B[0m\u001B[1;33m\u001B[0m\u001B[1;33m\u001B[0m\u001B[0m\n\u001B[0m\u001B[0;32m     58\u001B[0m             \u001B[1;32mexcept\u001B[0m \u001B[0mException\u001B[0m \u001B[1;32mas\u001B[0m \u001B[0me\u001B[0m\u001B[1;33m:\u001B[0m\u001B[1;33m\u001B[0m\u001B[1;33m\u001B[0m\u001B[0m\n\u001B[0;32m     59\u001B[0m                 \u001B[0mself\u001B[0m\u001B[1;33m.\u001B[0m\u001B[0m_error\u001B[0m \u001B[1;33m=\u001B[0m \u001B[0me\u001B[0m\u001B[1;33m\u001B[0m\u001B[1;33m\u001B[0m\u001B[0m\n",
      "\u001B[1;32m~\\PycharmProjects\\rebalancing\\pyefriend\\api.py\u001B[0m in \u001B[0;36msend_log_when_error\u001B[1;34m()\u001B[0m\n\u001B[0;32m     32\u001B[0m \u001B[1;33m\u001B[0m\u001B[0m\n\u001B[0;32m     33\u001B[0m                     \u001B[1;32melse\u001B[0m\u001B[1;33m:\u001B[0m\u001B[1;33m\u001B[0m\u001B[1;33m\u001B[0m\u001B[0m\n\u001B[1;32m---> 34\u001B[1;33m                         \u001B[1;32mraise\u001B[0m \u001B[0mUnExpectedException\u001B[0m\u001B[1;33m(\u001B[0m\u001B[1;34mf'[{msg_code}] {msg}'\u001B[0m\u001B[1;33m)\u001B[0m\u001B[1;33m\u001B[0m\u001B[1;33m\u001B[0m\u001B[0m\n\u001B[0m\u001B[0;32m     35\u001B[0m \u001B[1;33m\u001B[0m\u001B[0m\n\u001B[0;32m     36\u001B[0m                 \u001B[1;32melse\u001B[0m\u001B[1;33m:\u001B[0m\u001B[1;33m\u001B[0m\u001B[1;33m\u001B[0m\u001B[0m\n",
      "\u001B[1;31mUnExpectedException\u001B[0m: [40580000] 모의투자 장종료 입니다. ()"
     ]
    }
   ],
   "source": [
    "api.buy_stock(product_code=product_code, count=1)"
   ]
  },
  {
   "cell_type": "code",
   "execution_count": null,
   "id": "eed6d531",
   "metadata": {},
   "outputs": [],
   "source": [
    "product_code = 'VOO'\n",
    "market_code = 'AMEX'"
   ]
  }
 ],
 "metadata": {
  "kernelspec": {
   "display_name": "Python 3 (ipykernel)",
   "language": "python",
   "name": "python3"
  },
  "language_info": {
   "codemirror_mode": {
    "name": "ipython",
    "version": 3
   },
   "file_extension": ".py",
   "mimetype": "text/x-python",
   "name": "python",
   "nbconvert_exporter": "python",
   "pygments_lexer": "ipython3",
   "version": "3.9.7"
  }
 },
 "nbformat": 4,
 "nbformat_minor": 5
}